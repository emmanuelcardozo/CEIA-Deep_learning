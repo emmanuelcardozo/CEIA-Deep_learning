{
 "cells": [
  {
   "cell_type": "code",
   "execution_count": 2,
   "metadata": {
    "id": "tRGoyK_dAJAN"
   },
   "outputs": [],
   "source": [
    "import pandas as pd\n",
    "df = pd.read_csv(\"/dataset_wine.csv\")"
   ]
  },
  {
   "cell_type": "code",
   "execution_count": 3,
   "metadata": {
    "colab": {
     "base_uri": "https://localhost:8080/"
    },
    "id": "KII75g_CA2FV",
    "outputId": "d1be1b73-4f27-42a1-9c22-5f428a67363c"
   },
   "outputs": [
    {
     "data": {
      "text/plain": [
       "6497"
      ]
     },
     "execution_count": 3,
     "metadata": {},
     "output_type": "execute_result"
    }
   ],
   "source": [
    "len(df) # cantidad de filas"
   ]
  },
  {
   "cell_type": "code",
   "execution_count": 4,
   "metadata": {
    "colab": {
     "base_uri": "https://localhost:8080/"
    },
    "id": "-DwTipsfBKiU",
    "outputId": "eadca757-25df-4656-e8ff-a314775c7791"
   },
   "outputs": [
    {
     "name": "stdout",
     "output_type": "stream",
     "text": [
      "<class 'pandas.core.frame.DataFrame'>\n",
      "RangeIndex: 6497 entries, 0 to 6496\n",
      "Data columns (total 15 columns):\n",
      " #   Column                Non-Null Count  Dtype  \n",
      "---  ------                --------------  -----  \n",
      " 0   Unnamed: 0            6497 non-null   int64  \n",
      " 1   type                  6497 non-null   object \n",
      " 2   fixed acidity         6487 non-null   float64\n",
      " 3   volatile acidity      6489 non-null   float64\n",
      " 4   citric acid           6494 non-null   float64\n",
      " 5   residual sugar        6495 non-null   float64\n",
      " 6   chlorides             6495 non-null   float64\n",
      " 7   free sulfur dioxide   6497 non-null   float64\n",
      " 8   total sulfur dioxide  6497 non-null   float64\n",
      " 9   density               6497 non-null   float64\n",
      " 10  pH                    6488 non-null   float64\n",
      " 11  sulphates             6493 non-null   float64\n",
      " 12  alcohol               6497 non-null   float64\n",
      " 13  quality               6497 non-null   int64  \n",
      " 14  vendor_id             6497 non-null   int64  \n",
      "dtypes: float64(11), int64(3), object(1)\n",
      "memory usage: 761.5+ KB\n"
     ]
    }
   ],
   "source": [
    "df.info()"
   ]
  },
  {
   "cell_type": "code",
   "execution_count": 5,
   "metadata": {
    "colab": {
     "base_uri": "https://localhost:8080/"
    },
    "id": "m2DAOPQwBM3a",
    "outputId": "51bec854-0735-464d-b8c1-1705b9410468"
   },
   "outputs": [
    {
     "name": "stdout",
     "output_type": "stream",
     "text": [
      "   Unnamed: 0   type  fixed acidity  volatile acidity  citric acid  \\\n",
      "0           0  white            7.0              0.27         0.36   \n",
      "1           1  white            6.3              0.30         0.34   \n",
      "2           2  white            8.1              0.28         0.40   \n",
      "3           3  white            7.2              0.23         0.32   \n",
      "4           4  white            7.2              0.23         0.32   \n",
      "\n",
      "   residual sugar  chlorides  free sulfur dioxide  total sulfur dioxide  \\\n",
      "0            20.7      0.045                 45.0                 170.0   \n",
      "1             1.6      0.049                 14.0                 132.0   \n",
      "2             6.9      0.050                 30.0                  97.0   \n",
      "3             8.5      0.058                 47.0                 186.0   \n",
      "4             8.5      0.058                 47.0                 186.0   \n",
      "\n",
      "   density    pH  sulphates  alcohol  quality  vendor_id  \n",
      "0   1.0010  3.00       0.45      8.8        6        369  \n",
      "1   0.9940  3.30       0.49      9.5        6        361  \n",
      "2   0.9951  3.26       0.44     10.1        6        354  \n",
      "3   0.9956  3.19       0.40      9.9        6        325  \n",
      "4   0.9956  3.19       0.40      9.9        6        375  \n"
     ]
    }
   ],
   "source": [
    "print(df.head())"
   ]
  },
  {
   "cell_type": "code",
   "execution_count": 6,
   "metadata": {
    "id": "iGXt_8GFBlpm"
   },
   "outputs": [],
   "source": [
    "import numpy as np\n",
    "import torch\n",
    "import matplotlib.pyplot as plt\n",
    "from sklearn import preprocessing\n",
    "from scipy import stats"
   ]
  },
  {
   "cell_type": "code",
   "execution_count": 7,
   "metadata": {
    "colab": {
     "base_uri": "https://localhost:8080/"
    },
    "id": "NZGRUWXzBt2v",
    "outputId": "bc7cc50a-6bd5-4e6a-f163-82fe2a44eb34"
   },
   "outputs": [
    {
     "name": "stdout",
     "output_type": "stream",
     "text": [
      "3\n",
      "9\n"
     ]
    }
   ],
   "source": [
    "print(np.min(df.quality))\n",
    "print(np.max(df.quality))"
   ]
  },
  {
   "cell_type": "code",
   "execution_count": 8,
   "metadata": {
    "colab": {
     "base_uri": "https://localhost:8080/",
     "height": 334
    },
    "id": "phs_G-OeCFGZ",
    "outputId": "f05922a0-286e-4118-ffc8-8317c554d06e"
   },
   "outputs": [
    {
     "data": {
      "text/plain": [
       "(array([  30.,  216.,    0., 2138.,    0., 2836., 1079.,    0.,  193.,\n",
       "           5.]),\n",
       " array([3. , 3.6, 4.2, 4.8, 5.4, 6. , 6.6, 7.2, 7.8, 8.4, 9. ]),\n",
       " <a list of 10 Patch objects>)"
      ]
     },
     "execution_count": 8,
     "metadata": {},
     "output_type": "execute_result"
    },
    {
     "data": {
      "image/png": "[encoded data removed]",
      "text/plain": [
       "<Figure size 432x288 with 1 Axes>"
      ]
     },
     "metadata": {
      "needs_background": "light"
     },
     "output_type": "display_data"
    }
   ],
   "source": [
    "quality = df.quality.to_numpy()\n",
    "fix, ax1 = plt.subplots(1,1)\n",
    "ax1.hist(quality)"
   ]
  },
  {
   "cell_type": "code",
   "execution_count": 9,
   "metadata": {
    "colab": {
     "base_uri": "https://localhost:8080/"
    },
    "id": "FxAaiN5qByyu",
    "outputId": "df27a4f3-fff1-4487-9821-d203fe45faa3"
   },
   "outputs": [
    {
     "name": "stdout",
     "output_type": "stream",
     "text": [
      "5220\n",
      "1277\n"
     ]
    }
   ],
   "source": [
    "df[\"quality_label\"] = df.quality.apply(lambda label: 0 if label <= 6 else 1)\n",
    "print(len(df[df[\"quality_label\"] == 0])) # bad quality \n",
    "print(len(df[df[\"quality_label\"] == 1])) # good quality"
   ]
  },
  {
   "cell_type": "code",
   "execution_count": 10,
   "metadata": {
    "id": "YOHKjGkECuMP"
   },
   "outputs": [],
   "source": [
    "# clasificación binaria -> modelo tonto -> siempre devolver la clase mayoritaria\n",
    "# regresion -> modelo totno -> siempre devolver el promedio de tu salida"
   ]
  },
  {
   "cell_type": "markdown",
   "metadata": {
    "id": "PzoEyU2lDwje"
   },
   "source": [
    "## Ingeniería de features"
   ]
  },
  {
   "cell_type": "code",
   "execution_count": 11,
   "metadata": {
    "colab": {
     "base_uri": "https://localhost:8080/"
    },
    "id": "xb-rkWybDy4P",
    "outputId": "a0436fed-513a-4e2b-f9e1-2fe2f3fa9fad"
   },
   "outputs": [
    {
     "name": "stdout",
     "output_type": "stream",
     "text": [
      "<class 'pandas.core.frame.DataFrame'>\n",
      "RangeIndex: 6497 entries, 0 to 6496\n",
      "Data columns (total 16 columns):\n",
      " #   Column                Non-Null Count  Dtype  \n",
      "---  ------                --------------  -----  \n",
      " 0   Unnamed: 0            6497 non-null   int64  \n",
      " 1   type                  6497 non-null   object \n",
      " 2   fixed acidity         6487 non-null   float64\n",
      " 3   volatile acidity      6489 non-null   float64\n",
      " 4   citric acid           6494 non-null   float64\n",
      " 5   residual sugar        6495 non-null   float64\n",
      " 6   chlorides             6495 non-null   float64\n",
      " 7   free sulfur dioxide   6497 non-null   float64\n",
      " 8   total sulfur dioxide  6497 non-null   float64\n",
      " 9   density               6497 non-null   float64\n",
      " 10  pH                    6488 non-null   float64\n",
      " 11  sulphates             6493 non-null   float64\n",
      " 12  alcohol               6497 non-null   float64\n",
      " 13  quality               6497 non-null   int64  \n",
      " 14  vendor_id             6497 non-null   int64  \n",
      " 15  quality_label         6497 non-null   int64  \n",
      "dtypes: float64(11), int64(4), object(1)\n",
      "memory usage: 812.2+ KB\n"
     ]
    }
   ],
   "source": [
    "df.info()"
   ]
  },
  {
   "cell_type": "code",
   "execution_count": 12,
   "metadata": {
    "colab": {
     "base_uri": "https://localhost:8080/"
    },
    "id": "7flcpT4WEDqg",
    "outputId": "dcbc7b93-f8e9-49be-d0f5-2a09e7d0d70a"
   },
   "outputs": [
    {
     "name": "stdout",
     "output_type": "stream",
     "text": [
      "['white' 'red']\n",
      "<class 'pandas.core.frame.DataFrame'>\n",
      "RangeIndex: 6497 entries, 0 to 6496\n",
      "Data columns (total 2 columns):\n",
      " #   Column      Non-Null Count  Dtype\n",
      "---  ------      --------------  -----\n",
      " 0   type_red    6497 non-null   uint8\n",
      " 1   type_white  6497 non-null   uint8\n",
      "dtypes: uint8(2)\n",
      "memory usage: 12.8 KB\n",
      "<class 'pandas.core.frame.DataFrame'>\n",
      "RangeIndex: 6497 entries, 0 to 6496\n",
      "Data columns (total 18 columns):\n",
      " #   Column                Non-Null Count  Dtype  \n",
      "---  ------                --------------  -----  \n",
      " 0   Unnamed: 0            6497 non-null   int64  \n",
      " 1   type                  6497 non-null   object \n",
      " 2   fixed acidity         6487 non-null   float64\n",
      " 3   volatile acidity      6489 non-null   float64\n",
      " 4   citric acid           6494 non-null   float64\n",
      " 5   residual sugar        6495 non-null   float64\n",
      " 6   chlorides             6495 non-null   float64\n",
      " 7   free sulfur dioxide   6497 non-null   float64\n",
      " 8   total sulfur dioxide  6497 non-null   float64\n",
      " 9   density               6497 non-null   float64\n",
      " 10  pH                    6488 non-null   float64\n",
      " 11  sulphates             6493 non-null   float64\n",
      " 12  alcohol               6497 non-null   float64\n",
      " 13  quality               6497 non-null   int64  \n",
      " 14  vendor_id             6497 non-null   int64  \n",
      " 15  quality_label         6497 non-null   int64  \n",
      " 16  type_red              6497 non-null   uint8  \n",
      " 17  type_white            6497 non-null   uint8  \n",
      "dtypes: float64(11), int64(4), object(1), uint8(2)\n",
      "memory usage: 824.9+ KB\n"
     ]
    }
   ],
   "source": [
    "# Analicemos la variable tipo\n",
    "print(df[\"type\"].unique())\n",
    "type_dummies = pd.get_dummies(df[\"type\"], prefix=\"type\") # -> one hot encoding\n",
    "type_dummies.info() \n",
    "\n",
    "# concatenar esta representación del type al dataset original\n",
    "dataset = pd.concat([df, type_dummies], axis=1)\n",
    "dataset.info()"
   ]
  },
  {
   "cell_type": "code",
   "execution_count": 13,
   "metadata": {
    "colab": {
     "base_uri": "https://localhost:8080/"
    },
    "id": "vtKdw58tEORZ",
    "outputId": "e7dfe807-a908-49bc-a6d5-f199a77d1fcf"
   },
   "outputs": [
    {
     "name": "stdout",
     "output_type": "stream",
     "text": [
      "500\n"
     ]
    }
   ],
   "source": [
    "# Analicemos la vendor_id\n",
    "print(len(dataset[\"vendor_id\"].unique())) # -> embeddings"
   ]
  },
  {
   "cell_type": "code",
   "execution_count": 13,
   "metadata": {
    "id": "dMwKiCmNFSSe"
   },
   "outputs": [],
   "source": []
  },
  {
   "cell_type": "markdown",
   "metadata": {
    "id": "y-8seDrIGuGr"
   },
   "source": [
    "# Limpiar el dataset removiendo nans"
   ]
  },
  {
   "cell_type": "code",
   "execution_count": 14,
   "metadata": {
    "colab": {
     "base_uri": "https://localhost:8080/"
    },
    "id": "L15QLFCnGwEb",
    "outputId": "c544ff36-af87-4e41-f3e0-545687500f97"
   },
   "outputs": [
    {
     "name": "stdout",
     "output_type": "stream",
     "text": [
      "(34, 18)\n"
     ]
    }
   ],
   "source": [
    "nans = dataset[dataset.isna().sum(axis=1) >= 1]\n",
    "print(nans.shape)"
   ]
  },
  {
   "cell_type": "code",
   "execution_count": 15,
   "metadata": {
    "colab": {
     "base_uri": "https://localhost:8080/"
    },
    "id": "RT1EvF9RHFHn",
    "outputId": "e0a6ca6e-6862-4047-d8e8-b4fc36dd2bf3"
   },
   "outputs": [
    {
     "name": "stdout",
     "output_type": "stream",
     "text": [
      "(6463, 18)\n"
     ]
    }
   ],
   "source": [
    "dataset = dataset[dataset.isna().sum(axis=1) == 0]\n",
    "print(dataset.shape)"
   ]
  },
  {
   "cell_type": "code",
   "execution_count": 16,
   "metadata": {
    "id": "vVA38HoBHbqS"
   },
   "outputs": [],
   "source": [
    "y = dataset[\"quality_label\"]\n",
    "vendor_id = dataset[\"vendor_id\"]\n",
    "X = dataset.drop([\"Unnamed: 0\", \"type\", \"quality\", \"quality_label\", \"vendor_id\"], axis=1)\n"
   ]
  },
  {
   "cell_type": "code",
   "execution_count": 16,
   "metadata": {
    "id": "1ID6WuAmIsL-"
   },
   "outputs": [],
   "source": []
  },
  {
   "cell_type": "markdown",
   "metadata": {
    "id": "xuuiz94jL95V"
   },
   "source": [
    "## Normalización"
   ]
  },
  {
   "cell_type": "code",
   "execution_count": 17,
   "metadata": {
    "id": "4ZziRQRGL_fN"
   },
   "outputs": [],
   "source": [
    "X_norm = (X - np.min(X, axis=0)) / (np.max(X, axis=0) - np.min(X, axis=0))"
   ]
  },
  {
   "cell_type": "code",
   "execution_count": 18,
   "metadata": {
    "colab": {
     "base_uri": "https://localhost:8080/"
    },
    "id": "heiUcF4-OeKI",
    "outputId": "4a396e75-cd56-44b2-809a-54855b8fabc1"
   },
   "outputs": [
    {
     "name": "stdout",
     "output_type": "stream",
     "text": [
      "fixed acidity           0.0\n",
      "volatile acidity        0.0\n",
      "citric acid             0.0\n",
      "residual sugar          0.0\n",
      "chlorides               0.0\n",
      "free sulfur dioxide     0.0\n",
      "total sulfur dioxide    0.0\n",
      "density                 0.0\n",
      "pH                      0.0\n",
      "sulphates               0.0\n",
      "alcohol                 0.0\n",
      "type_red                0.0\n",
      "type_white              0.0\n",
      "dtype: float64\n",
      "fixed acidity           1.0\n",
      "volatile acidity        1.0\n",
      "citric acid             1.0\n",
      "residual sugar          1.0\n",
      "chlorides               1.0\n",
      "free sulfur dioxide     1.0\n",
      "total sulfur dioxide    1.0\n",
      "density                 1.0\n",
      "pH                      1.0\n",
      "sulphates               1.0\n",
      "alcohol                 1.0\n",
      "type_red                1.0\n",
      "type_white              1.0\n",
      "dtype: float64\n"
     ]
    }
   ],
   "source": [
    "print(np.min(X_norm, axis=0))\n",
    "print(np.max(X_norm, axis=0))"
   ]
  },
  {
   "cell_type": "code",
   "execution_count": 19,
   "metadata": {
    "colab": {
     "base_uri": "https://localhost:8080/",
     "height": 399
    },
    "id": "ik1CR2FtOqzI",
    "outputId": "004b9b59-0269-4b7d-abbf-dfc62b339b4c"
   },
   "outputs": [
    {
     "data": {
      "text/html": [
       "\n",
       "  <div id=\"df-bcfdf0d2-1bf1-4a85-9ca7-b6fff073f1cc\">\n",
       "    <div class=\"colab-df-container\">\n",
       "      <div>\n",
       "<style scoped>\n",
       "    .dataframe tbody tr th:only-of-type {\n",
       "        vertical-align: middle;\n",
       "    }\n",
       "\n",
       "    .dataframe tbody tr th {\n",
       "        vertical-align: top;\n",
       "    }\n",
       "\n",
       "    .dataframe thead th {\n",
       "        text-align: right;\n",
       "    }\n",
       "</style>\n",
       "<table border=\"1\" class=\"dataframe\">\n",
       "  <thead>\n",
       "    <tr style=\"text-align: right;\">\n",
       "      <th></th>\n",
       "      <th>fixed acidity</th>\n",
       "      <th>volatile acidity</th>\n",
       "      <th>citric acid</th>\n",
       "      <th>residual sugar</th>\n",
       "      <th>chlorides</th>\n",
       "      <th>free sulfur dioxide</th>\n",
       "      <th>total sulfur dioxide</th>\n",
       "      <th>density</th>\n",
       "      <th>pH</th>\n",
       "      <th>sulphates</th>\n",
       "      <th>alcohol</th>\n",
       "      <th>type_red</th>\n",
       "      <th>type_white</th>\n",
       "    </tr>\n",
       "  </thead>\n",
       "  <tbody>\n",
       "    <tr>\n",
       "      <th>count</th>\n",
       "      <td>6463.000000</td>\n",
       "      <td>6463.000000</td>\n",
       "      <td>6463.000000</td>\n",
       "      <td>6463.000000</td>\n",
       "      <td>6463.000000</td>\n",
       "      <td>6463.000000</td>\n",
       "      <td>6463.000000</td>\n",
       "      <td>6463.000000</td>\n",
       "      <td>6463.000000</td>\n",
       "      <td>6463.000000</td>\n",
       "      <td>6463.000000</td>\n",
       "      <td>6463.000000</td>\n",
       "      <td>6463.000000</td>\n",
       "    </tr>\n",
       "    <tr>\n",
       "      <th>mean</th>\n",
       "      <td>0.282459</td>\n",
       "      <td>0.173059</td>\n",
       "      <td>0.192023</td>\n",
       "      <td>0.074294</td>\n",
       "      <td>0.078166</td>\n",
       "      <td>0.102489</td>\n",
       "      <td>0.252752</td>\n",
       "      <td>0.146283</td>\n",
       "      <td>0.386304</td>\n",
       "      <td>0.174803</td>\n",
       "      <td>0.361279</td>\n",
       "      <td>0.246480</td>\n",
       "      <td>0.753520</td>\n",
       "    </tr>\n",
       "    <tr>\n",
       "      <th>std</th>\n",
       "      <td>0.107266</td>\n",
       "      <td>0.109759</td>\n",
       "      <td>0.087501</td>\n",
       "      <td>0.072958</td>\n",
       "      <td>0.058265</td>\n",
       "      <td>0.061663</td>\n",
       "      <td>0.130246</td>\n",
       "      <td>0.057865</td>\n",
       "      <td>0.124535</td>\n",
       "      <td>0.083659</td>\n",
       "      <td>0.172917</td>\n",
       "      <td>0.430995</td>\n",
       "      <td>0.430995</td>\n",
       "    </tr>\n",
       "    <tr>\n",
       "      <th>min</th>\n",
       "      <td>0.000000</td>\n",
       "      <td>0.000000</td>\n",
       "      <td>0.000000</td>\n",
       "      <td>0.000000</td>\n",
       "      <td>0.000000</td>\n",
       "      <td>0.000000</td>\n",
       "      <td>0.000000</td>\n",
       "      <td>0.000000</td>\n",
       "      <td>0.000000</td>\n",
       "      <td>0.000000</td>\n",
       "      <td>0.000000</td>\n",
       "      <td>0.000000</td>\n",
       "      <td>0.000000</td>\n",
       "    </tr>\n",
       "    <tr>\n",
       "      <th>25%</th>\n",
       "      <td>0.214876</td>\n",
       "      <td>0.100000</td>\n",
       "      <td>0.150602</td>\n",
       "      <td>0.018405</td>\n",
       "      <td>0.048173</td>\n",
       "      <td>0.055556</td>\n",
       "      <td>0.163594</td>\n",
       "      <td>0.100636</td>\n",
       "      <td>0.302326</td>\n",
       "      <td>0.117978</td>\n",
       "      <td>0.217391</td>\n",
       "      <td>0.000000</td>\n",
       "      <td>1.000000</td>\n",
       "    </tr>\n",
       "    <tr>\n",
       "      <th>50%</th>\n",
       "      <td>0.264463</td>\n",
       "      <td>0.140000</td>\n",
       "      <td>0.186747</td>\n",
       "      <td>0.036810</td>\n",
       "      <td>0.063123</td>\n",
       "      <td>0.097222</td>\n",
       "      <td>0.258065</td>\n",
       "      <td>0.149990</td>\n",
       "      <td>0.379845</td>\n",
       "      <td>0.162921</td>\n",
       "      <td>0.333333</td>\n",
       "      <td>0.000000</td>\n",
       "      <td>1.000000</td>\n",
       "    </tr>\n",
       "    <tr>\n",
       "      <th>75%</th>\n",
       "      <td>0.322314</td>\n",
       "      <td>0.213333</td>\n",
       "      <td>0.234940</td>\n",
       "      <td>0.115031</td>\n",
       "      <td>0.093023</td>\n",
       "      <td>0.138889</td>\n",
       "      <td>0.345622</td>\n",
       "      <td>0.190669</td>\n",
       "      <td>0.465116</td>\n",
       "      <td>0.213483</td>\n",
       "      <td>0.478261</td>\n",
       "      <td>0.000000</td>\n",
       "      <td>1.000000</td>\n",
       "    </tr>\n",
       "    <tr>\n",
       "      <th>max</th>\n",
       "      <td>1.000000</td>\n",
       "      <td>1.000000</td>\n",
       "      <td>1.000000</td>\n",
       "      <td>1.000000</td>\n",
       "      <td>1.000000</td>\n",
       "      <td>1.000000</td>\n",
       "      <td>1.000000</td>\n",
       "      <td>1.000000</td>\n",
       "      <td>1.000000</td>\n",
       "      <td>1.000000</td>\n",
       "      <td>1.000000</td>\n",
       "      <td>1.000000</td>\n",
       "      <td>1.000000</td>\n",
       "    </tr>\n",
       "  </tbody>\n",
       "</table>\n",
       "</div>\n",
       "      <button class=\"colab-df-convert\" onclick=\"convertToInteractive('df-bcfdf0d2-1bf1-4a85-9ca7-b6fff073f1cc')\"\n",
       "              title=\"Convert this dataframe to an interactive table.\"\n",
       "              style=\"display:none;\">\n",
       "        \n",
       "  <svg xmlns=\"http://www.w3.org/2000/svg\" height=\"24px\"viewBox=\"0 0 24 24\"\n",
       "       width=\"24px\">\n",
       "    <path d=\"M0 0h24v24H0V0z\" fill=\"none\"/>\n",
       "    <path d=\"M18.56 5.44l.94 2.06.94-2.06 2.06-.94-2.06-.94-.94-2.06-.94 2.06-2.06.94zm-11 1L8.5 8.5l.94-2.06 2.06-.94-2.06-.94L8.5 2.5l-.94 2.06-2.06.94zm10 10l.94 2.06.94-2.06 2.06-.94-2.06-.94-.94-2.06-.94 2.06-2.06.94z\"/><path d=\"M17.41 7.96l-1.37-1.37c-.4-.4-.92-.59-1.43-.59-.52 0-1.04.2-1.43.59L10.3 9.45l-7.72 7.72c-.78.78-.78 2.05 0 2.83L4 21.41c.39.39.9.59 1.41.59.51 0 1.02-.2 1.41-.59l7.78-7.78 2.81-2.81c.8-.78.8-2.07 0-2.86zM5.41 20L4 18.59l7.72-7.72 1.47 1.35L5.41 20z\"/>\n",
       "  </svg>\n",
       "      </button>\n",
       "      \n",
       "  <style>\n",
       "    .colab-df-container {\n",
       "      display:flex;\n",
       "      flex-wrap:wrap;\n",
       "      gap: 12px;\n",
       "    }\n",
       "\n",
       "    .colab-df-convert {\n",
       "      background-color: #E8F0FE;\n",
       "      border: none;\n",
       "      border-radius: 50%;\n",
       "      cursor: pointer;\n",
       "      display: none;\n",
       "      fill: #1967D2;\n",
       "      height: 32px;\n",
       "      padding: 0 0 0 0;\n",
       "      width: 32px;\n",
       "    }\n",
       "\n",
       "    .colab-df-convert:hover {\n",
       "      background-color: #E2EBFA;\n",
       "      box-shadow: 0px 1px 2px rgba(60, 64, 67, 0.3), 0px 1px 3px 1px rgba(60, 64, 67, 0.15);\n",
       "      fill: #174EA6;\n",
       "    }\n",
       "\n",
       "    [theme=dark] .colab-df-convert {\n",
       "      background-color: #3B4455;\n",
       "      fill: #D2E3FC;\n",
       "    }\n",
       "\n",
       "    [theme=dark] .colab-df-convert:hover {\n",
       "      background-color: #434B5C;\n",
       "      box-shadow: 0px 1px 3px 1px rgba(0, 0, 0, 0.15);\n",
       "      filter: drop-shadow(0px 1px 2px rgba(0, 0, 0, 0.3));\n",
       "      fill: #FFFFFF;\n",
       "    }\n",
       "  </style>\n",
       "\n",
       "      <script>\n",
       "        const buttonEl =\n",
       "          document.querySelector('#df-bcfdf0d2-1bf1-4a85-9ca7-b6fff073f1cc button.colab-df-convert');\n",
       "        buttonEl.style.display =\n",
       "          google.colab.kernel.accessAllowed ? 'block' : 'none';\n",
       "\n",
       "        async function convertToInteractive(key) {\n",
       "          const element = document.querySelector('#df-bcfdf0d2-1bf1-4a85-9ca7-b6fff073f1cc');\n",
       "          const dataTable =\n",
       "            await google.colab.kernel.invokeFunction('convertToInteractive',\n",
       "                                                     [key], {});\n",
       "          if (!dataTable) return;\n",
       "\n",
       "          const docLinkHtml = 'Like what you see? Visit the ' +\n",
       "            '<a target=\"_blank\" href=https://colab.research.google.com/notebooks/data_table.ipynb>data table notebook</a>'\n",
       "            + ' to learn more about interactive tables.';\n",
       "          element.innerHTML = '';\n",
       "          dataTable['output_type'] = 'display_data';\n",
       "          await google.colab.output.renderOutput(dataTable, element);\n",
       "          const docLink = document.createElement('div');\n",
       "          docLink.innerHTML = docLinkHtml;\n",
       "          element.appendChild(docLink);\n",
       "        }\n",
       "      </script>\n",
       "    </div>\n",
       "  </div>\n",
       "  "
      ],
      "text/plain": [
       "       fixed acidity  volatile acidity  citric acid  residual sugar  \\\n",
       "count    6463.000000       6463.000000  6463.000000     6463.000000   \n",
       "mean        0.282459          0.173059     0.192023        0.074294   \n",
       "std         0.107266          0.109759     0.087501        0.072958   \n",
       "min         0.000000          0.000000     0.000000        0.000000   \n",
       "25%         0.214876          0.100000     0.150602        0.018405   \n",
       "50%         0.264463          0.140000     0.186747        0.036810   \n",
       "75%         0.322314          0.213333     0.234940        0.115031   \n",
       "max         1.000000          1.000000     1.000000        1.000000   \n",
       "\n",
       "         chlorides  free sulfur dioxide  total sulfur dioxide      density  \\\n",
       "count  6463.000000          6463.000000           6463.000000  6463.000000   \n",
       "mean      0.078166             0.102489              0.252752     0.146283   \n",
       "std       0.058265             0.061663              0.130246     0.057865   \n",
       "min       0.000000             0.000000              0.000000     0.000000   \n",
       "25%       0.048173             0.055556              0.163594     0.100636   \n",
       "50%       0.063123             0.097222              0.258065     0.149990   \n",
       "75%       0.093023             0.138889              0.345622     0.190669   \n",
       "max       1.000000             1.000000              1.000000     1.000000   \n",
       "\n",
       "                pH    sulphates      alcohol     type_red   type_white  \n",
       "count  6463.000000  6463.000000  6463.000000  6463.000000  6463.000000  \n",
       "mean      0.386304     0.174803     0.361279     0.246480     0.753520  \n",
       "std       0.124535     0.083659     0.172917     0.430995     0.430995  \n",
       "min       0.000000     0.000000     0.000000     0.000000     0.000000  \n",
       "25%       0.302326     0.117978     0.217391     0.000000     1.000000  \n",
       "50%       0.379845     0.162921     0.333333     0.000000     1.000000  \n",
       "75%       0.465116     0.213483     0.478261     0.000000     1.000000  \n",
       "max       1.000000     1.000000     1.000000     1.000000     1.000000  "
      ]
     },
     "execution_count": 19,
     "metadata": {},
     "output_type": "execute_result"
    }
   ],
   "source": [
    "X_norm.describe()"
   ]
  },
  {
   "cell_type": "code",
   "execution_count": 19,
   "metadata": {
    "id": "F2zR1-ZoOx-L"
   },
   "outputs": [],
   "source": []
  },
  {
   "cell_type": "markdown",
   "metadata": {
    "id": "9OVB0QPQPGUK"
   },
   "source": [
    "# Split"
   ]
  },
  {
   "cell_type": "code",
   "execution_count": 20,
   "metadata": {
    "colab": {
     "base_uri": "https://localhost:8080/"
    },
    "id": "hHP6Qt2IPHiy",
    "outputId": "8f3dd718-3841-4cb2-fe1a-3ec8be67375f"
   },
   "outputs": [
    {
     "name": "stdout",
     "output_type": "stream",
     "text": [
      "6463\n",
      "5493\n",
      "970\n"
     ]
    }
   ],
   "source": [
    "X_norm = X_norm.to_numpy()\n",
    "y = y.to_numpy()\n",
    "n = X_norm.shape[0]\n",
    "print(n)\n",
    "idx = np.random.permutation(np.arange(0, n))\n",
    "train_idx = idx[0:int(0.85 * n)]\n",
    "valid_idx = idx[int(0.85 * n):]\n",
    "print(len(train_idx))\n",
    "print(len(valid_idx))\n",
    "\n",
    "# train -> entrenar tu modelo (80%)\n",
    "# valid -> encontrar los HPs (10%)\n",
    "# test -> calcular las metricas finales (10%)"
   ]
  },
  {
   "cell_type": "code",
   "execution_count": 21,
   "metadata": {
    "colab": {
     "base_uri": "https://localhost:8080/"
    },
    "id": "AfhwVo_XPLuz",
    "outputId": "37bbaa46-0f2b-46da-c1f6-f2789f8a068e"
   },
   "outputs": [
    {
     "name": "stdout",
     "output_type": "stream",
     "text": [
      "(5493, 13)\n",
      "(5493,)\n",
      "(970, 13)\n",
      "(970,)\n"
     ]
    }
   ],
   "source": [
    "X_train = X_norm[train_idx,:]\n",
    "y_train = y[train_idx]\n",
    "X_valid = X_norm[valid_idx,:]\n",
    "y_valid = y[valid_idx]\n",
    "\n",
    "print(X_train.shape)\n",
    "print(y_train.shape)\n",
    "print(X_valid.shape)\n",
    "print(y_valid.shape)"
   ]
  },
  {
   "cell_type": "code",
   "execution_count": 21,
   "metadata": {
    "id": "ai4u0en5PVE7"
   },
   "outputs": [],
   "source": []
  },
  {
   "cell_type": "markdown",
   "metadata": {
    "id": "29g8DEnCRC8o"
   },
   "source": [
    "# NNet sin embeddings"
   ]
  },
  {
   "cell_type": "code",
   "execution_count": 22,
   "metadata": {
    "id": "ew8ngMTnREbx"
   },
   "outputs": [],
   "source": [
    "import torch\n",
    "from torch.utils.data import Dataset, DataLoader\n",
    "from sklearn import metrics"
   ]
  },
  {
   "cell_type": "code",
   "execution_count": 23,
   "metadata": {
    "id": "QOKrevWwRMui"
   },
   "outputs": [],
   "source": [
    "class MyDataset(Dataset):\n",
    "\n",
    "    def __init__(self, X, y):\n",
    "        super().__init__()\n",
    "        self.X = X\n",
    "        self.y = y\n",
    "\n",
    "    def __len__(self):\n",
    "        return self.X.shape[0]\n",
    "\n",
    "    def __getitem__(self, idx):\n",
    "        return self.X[idx], self.y[idx]"
   ]
  },
  {
   "cell_type": "code",
   "execution_count": 24,
   "metadata": {
    "id": "IfylgH5FRtBF"
   },
   "outputs": [],
   "source": [
    "train = MyDataset(X_train, y_train)"
   ]
  },
  {
   "cell_type": "code",
   "execution_count": 25,
   "metadata": {
    "colab": {
     "base_uri": "https://localhost:8080/"
    },
    "id": "xwotH3TkSOfv",
    "outputId": "8118011f-7b48-4e50-e658-a6e2623c8b85"
   },
   "outputs": [
    {
     "data": {
      "text/plain": [
       "5493"
      ]
     },
     "execution_count": 25,
     "metadata": {},
     "output_type": "execute_result"
    }
   ],
   "source": [
    "len(train)"
   ]
  },
  {
   "cell_type": "code",
   "execution_count": 26,
   "metadata": {
    "id": "Ch3k54ntSROu"
   },
   "outputs": [],
   "source": [
    "X0, y0 = train[0]"
   ]
  },
  {
   "cell_type": "code",
   "execution_count": 27,
   "metadata": {
    "colab": {
     "base_uri": "https://localhost:8080/"
    },
    "id": "XkxbziOhScFv",
    "outputId": "4dced27f-6eb0-4ea9-ddc8-18af307b657b"
   },
   "outputs": [
    {
     "data": {
      "text/plain": [
       "(13,)"
      ]
     },
     "execution_count": 27,
     "metadata": {},
     "output_type": "execute_result"
    }
   ],
   "source": [
    "X0.shape"
   ]
  },
  {
   "cell_type": "code",
   "execution_count": 28,
   "metadata": {
    "colab": {
     "base_uri": "https://localhost:8080/"
    },
    "id": "1V-3f7QKSgag",
    "outputId": "6fe92f18-1502-4ef4-ad21-26e73d4f973a"
   },
   "outputs": [
    {
     "data": {
      "text/plain": [
       "(5493, 13)"
      ]
     },
     "execution_count": 28,
     "metadata": {},
     "output_type": "execute_result"
    }
   ],
   "source": [
    "X_train.shape"
   ]
  },
  {
   "cell_type": "code",
   "execution_count": 29,
   "metadata": {
    "colab": {
     "base_uri": "https://localhost:8080/"
    },
    "id": "iB5NNBRRSi5g",
    "outputId": "c795c3f3-4c96-491a-ca8c-3a1148dd0e2c"
   },
   "outputs": [
    {
     "data": {
      "text/plain": [
       "0"
      ]
     },
     "execution_count": 29,
     "metadata": {},
     "output_type": "execute_result"
    }
   ],
   "source": [
    "y0"
   ]
  },
  {
   "cell_type": "code",
   "execution_count": 30,
   "metadata": {
    "id": "ssMZMDJRSn0h"
   },
   "outputs": [],
   "source": [
    "valid = MyDataset(X_valid, y_valid)"
   ]
  },
  {
   "cell_type": "code",
   "execution_count": 31,
   "metadata": {
    "colab": {
     "base_uri": "https://localhost:8080/"
    },
    "id": "9XxU-vPzSs3R",
    "outputId": "035e700c-f23b-44db-924a-2350ae4b864c"
   },
   "outputs": [
    {
     "data": {
      "text/plain": [
       "970"
      ]
     },
     "execution_count": 31,
     "metadata": {},
     "output_type": "execute_result"
    }
   ],
   "source": [
    "len(valid)"
   ]
  },
  {
   "cell_type": "code",
   "execution_count": 32,
   "metadata": {
    "colab": {
     "base_uri": "https://localhost:8080/"
    },
    "id": "KlCqxEeFSt8S",
    "outputId": "77f51f9b-58c1-43c5-c32c-2fb5c3bb146e"
   },
   "outputs": [
    {
     "name": "stdout",
     "output_type": "stream",
     "text": [
      "[0.21487603 0.40666667 0.         0.01610429 0.07641196 0.02083333\n",
      " 0.01382488 0.08694814 0.58139535 0.1741573  0.71014493 1.\n",
      " 0.        ]\n"
     ]
    }
   ],
   "source": [
    "print(X0)"
   ]
  },
  {
   "cell_type": "code",
   "execution_count": 33,
   "metadata": {
    "id": "K4ByVtwgSxEa"
   },
   "outputs": [],
   "source": [
    "train_dataloader = DataLoader(train, batch_size=64, shuffle=True)\n",
    "valid_dataloader = DataLoader(valid, batch_size=64, shuffle=True)"
   ]
  },
  {
   "cell_type": "code",
   "execution_count": 34,
   "metadata": {
    "id": "321dr8dCT4wz"
   },
   "outputs": [],
   "source": [
    "batch_1 = next(iter(train_dataloader))"
   ]
  },
  {
   "cell_type": "code",
   "execution_count": 35,
   "metadata": {
    "colab": {
     "base_uri": "https://localhost:8080/"
    },
    "id": "bOU8Nm17UNhN",
    "outputId": "d9cae371-b56a-4fd0-8dd6-f50951881cb5"
   },
   "outputs": [
    {
     "data": {
      "text/plain": [
       "list"
      ]
     },
     "execution_count": 35,
     "metadata": {},
     "output_type": "execute_result"
    }
   ],
   "source": [
    "type(batch_1)"
   ]
  },
  {
   "cell_type": "code",
   "execution_count": 36,
   "metadata": {
    "colab": {
     "base_uri": "https://localhost:8080/"
    },
    "id": "z-YMYZirUTwO",
    "outputId": "55109fb1-3066-4db7-89be-6e1f5bb7eb0f"
   },
   "outputs": [
    {
     "data": {
      "text/plain": [
       "2"
      ]
     },
     "execution_count": 36,
     "metadata": {},
     "output_type": "execute_result"
    }
   ],
   "source": [
    "len(batch_1)"
   ]
  },
  {
   "cell_type": "code",
   "execution_count": 37,
   "metadata": {
    "colab": {
     "base_uri": "https://localhost:8080/"
    },
    "id": "6jrte7jCUV6O",
    "outputId": "8a8376cb-e993-4bfc-dde3-34b6ce7a1635"
   },
   "outputs": [
    {
     "data": {
      "text/plain": [
       "torch.Tensor"
      ]
     },
     "execution_count": 37,
     "metadata": {},
     "output_type": "execute_result"
    }
   ],
   "source": [
    "type(batch_1[0])"
   ]
  },
  {
   "cell_type": "code",
   "execution_count": 38,
   "metadata": {
    "colab": {
     "base_uri": "https://localhost:8080/"
    },
    "id": "w5rWRYS0UbJJ",
    "outputId": "0521d8e8-f8ce-4a43-fc01-4f9d97319649"
   },
   "outputs": [
    {
     "name": "stdout",
     "output_type": "stream",
     "text": [
      "torch.Size([64, 13])\n"
     ]
    }
   ],
   "source": [
    "print(batch_1[0].shape) # -> 64 filas de X_train (dataset de entrenamiento)"
   ]
  },
  {
   "cell_type": "code",
   "execution_count": 39,
   "metadata": {
    "colab": {
     "base_uri": "https://localhost:8080/"
    },
    "id": "ptE4qNlTUmA4",
    "outputId": "c004f266-9a70-447c-fefe-c5564de94d54"
   },
   "outputs": [
    {
     "name": "stdout",
     "output_type": "stream",
     "text": [
      "torch.Size([64])\n"
     ]
    }
   ],
   "source": [
    "print(batch_1[1].shape) # -> 64 filas de y_train (label)"
   ]
  },
  {
   "cell_type": "code",
   "execution_count": 40,
   "metadata": {
    "id": "JsX0C6U8UrXE"
   },
   "outputs": [],
   "source": [
    "class NNet(torch.nn.Module):\n",
    "\n",
    "    def __init__(self):\n",
    "        super().__init__()\n",
    "        self.linear_1 = torch.nn.Linear(in_features=13, out_features=100, bias=True)\n",
    "        self.relu_1 = torch.nn.ReLU()\n",
    "        self.linear_2 = torch.nn.Linear(in_features=100, out_features=50, bias=True)\n",
    "        self.relu_2 = torch.nn.ReLU()\n",
    "        self.output = torch.nn.Linear(in_features=50, out_features=1, bias=True)\n",
    "\n",
    "    def forward(self, x): # x.shape -> 64 x 13\n",
    "        x = self.linear_1(x) # x.shape -> 64 x 100 \n",
    "        #print(x.shape)\n",
    "        x = self.relu_1(x) # x.shape -> 64 x 100\n",
    "        #print(x.shape)\n",
    "        x = self.linear_2(x) # x.shape -> 64 x 50\n",
    "        #print(x.shape)\n",
    "        x = self.relu_2(x) # x.shape -> 64 x 50\n",
    "        #print(x.shape)\n",
    "        x = self.output(x) # x.shape -> 64 x 1\n",
    "        return x"
   ]
  },
  {
   "cell_type": "code",
   "execution_count": 41,
   "metadata": {
    "id": "kYb1Xz-dWGuF"
   },
   "outputs": [],
   "source": [
    "nnet = NNet()"
   ]
  },
  {
   "cell_type": "code",
   "execution_count": 42,
   "metadata": {
    "colab": {
     "base_uri": "https://localhost:8080/"
    },
    "id": "-wHF-eCeaAvC",
    "outputId": "e94615bc-0102-4bd9-bb71-c486398ae684"
   },
   "outputs": [
    {
     "name": "stdout",
     "output_type": "stream",
     "text": [
      "<class 'torch.Tensor'>\n",
      "torch.Size([64, 13])\n",
      "torch.Size([64, 1])\n"
     ]
    }
   ],
   "source": [
    "x_batch = next(iter(train_dataloader))[0]\n",
    "print(type(x_batch))\n",
    "x_batch = x_batch.float()\n",
    "y_batch = nnet(x_batch)\n",
    "print(x_batch.shape)\n",
    "print(y_batch.shape)"
   ]
  },
  {
   "cell_type": "code",
   "execution_count": 43,
   "metadata": {
    "id": "ti73yFR5ajxN"
   },
   "outputs": [],
   "source": [
    "optimizer = torch.optim.Adam(nnet.parameters(), lr=0.001)\n",
    "loss_function = torch.nn.BCEWithLogitsLoss(reduction=\"sum\")"
   ]
  },
  {
   "cell_type": "code",
   "execution_count": 44,
   "metadata": {
    "colab": {
     "base_uri": "https://localhost:8080/"
    },
    "id": "VpqrLBLYb1Bo",
    "outputId": "5757315d-2827-438e-a1f1-ff1ba182f436"
   },
   "outputs": [
    {
     "name": "stdout",
     "output_type": "stream",
     "text": [
      "cuda:0\n"
     ]
    }
   ],
   "source": [
    "device = \"\"\n",
    "if torch.cuda.is_available():\n",
    "    device = \"cuda:0\"\n",
    "else:\n",
    "    device = \"cpu\"\n",
    "\n",
    "print(device)"
   ]
  },
  {
   "cell_type": "code",
   "execution_count": 45,
   "metadata": {
    "colab": {
     "base_uri": "https://localhost:8080/"
    },
    "id": "u0RP_kJ_cCMv",
    "outputId": "6b9974a4-b742-48b5-cd21-95d4579235b9"
   },
   "outputs": [
    {
     "name": "stdout",
     "output_type": "stream",
     "text": [
      "Epoch 0 | Training loss: 2901.2858238220215 | AUC: 0.5314727607005774\n",
      "Epoch 1 | Training loss: 2541.4410572052 | AUC: 0.7053589465875119\n",
      "Epoch 2 | Training loss: 2362.9121417999268 | AUC: 0.7637026213082942\n",
      "Epoch 3 | Training loss: 2259.0209884643555 | AUC: 0.7830932532844869\n",
      "Epoch 4 | Training loss: 2200.178611755371 | AUC: 0.7960142227322653\n",
      "Epoch 5 | Training loss: 2172.950487136841 | AUC: 0.802772482119727\n",
      "Epoch 6 | Training loss: 2153.067925453186 | AUC: 0.8074976190759129\n",
      "Epoch 7 | Training loss: 2142.3158798217773 | AUC: 0.8101546200113061\n",
      "Epoch 8 | Training loss: 2134.7095832824707 | AUC: 0.8114624306306519\n",
      "Epoch 9 | Training loss: 2126.192545890808 | AUC: 0.8139901995901925\n",
      "Epoch 10 | Training loss: 2117.796075820923 | AUC: 0.8156948308907287\n",
      "Epoch 11 | Training loss: 2112.284026145935 | AUC: 0.8166930364973168\n",
      "Epoch 12 | Training loss: 2111.622714996338 | AUC: 0.8167789789443127\n",
      "Epoch 13 | Training loss: 2110.2386302948 | AUC: 0.816615263887875\n",
      "Epoch 14 | Training loss: 2098.1191940307617 | AUC: 0.8195692437234429\n",
      "Epoch 15 | Training loss: 2103.868679046631 | AUC: 0.81802015764179\n",
      "Epoch 16 | Training loss: 2079.88330078125 | AUC: 0.8237910338048781\n",
      "Epoch 17 | Training loss: 2077.4525051116943 | AUC: 0.8244388913127253\n",
      "Epoch 18 | Training loss: 2068.4867935180664 | AUC: 0.8260989598629673\n",
      "Epoch 19 | Training loss: 2063.697006225586 | AUC: 0.8272660795135277\n",
      "Epoch 20 | Training loss: 2056.577063560486 | AUC: 0.8286831749728804\n",
      "Epoch 21 | Training loss: 2051.1045246124268 | AUC: 0.8300007469565762\n",
      "Epoch 22 | Training loss: 2038.673279762268 | AUC: 0.8327235309995468\n",
      "Epoch 23 | Training loss: 2037.945032119751 | AUC: 0.8327482527157813\n",
      "Epoch 24 | Training loss: 2032.4809103012085 | AUC: 0.8339736222470832\n",
      "Epoch 25 | Training loss: 2021.5910930633545 | AUC: 0.8362514153978308\n",
      "Epoch 26 | Training loss: 2012.279733657837 | AUC: 0.8384099501406486\n",
      "Epoch 27 | Training loss: 2010.6222133636475 | AUC: 0.8387019422568613\n",
      "Epoch 28 | Training loss: 1994.350317955017 | AUC: 0.8426442602328806\n",
      "Epoch 29 | Training loss: 1997.249755859375 | AUC: 0.8413967154282184\n",
      "Epoch 30 | Training loss: 1994.47580909729 | AUC: 0.8423265914843554\n",
      "Epoch 31 | Training loss: 1991.0544834136963 | AUC: 0.8427605477907909\n",
      "Epoch 32 | Training loss: 1977.605411529541 | AUC: 0.8458888528614379\n",
      "Epoch 33 | Training loss: 1971.8655014038086 | AUC: 0.846480370320699\n",
      "Epoch 34 | Training loss: 1960.3043069839478 | AUC: 0.8488454852416658\n",
      "Epoch 35 | Training loss: 1960.3824090957642 | AUC: 0.8490826227343026\n",
      "Epoch 36 | Training loss: 1961.5238246917725 | AUC: 0.848434234717523\n",
      "Epoch 37 | Training loss: 1947.1707201004028 | AUC: 0.85200583305181\n",
      "Epoch 38 | Training loss: 1946.2346181869507 | AUC: 0.8521541633492175\n",
      "Epoch 39 | Training loss: 1938.4602670669556 | AUC: 0.8535646804978126\n",
      "Epoch 40 | Training loss: 1934.5057201385498 | AUC: 0.8542872336632958\n",
      "Epoch 41 | Training loss: 1933.0304899215698 | AUC: 0.8542507346487691\n",
      "Epoch 42 | Training loss: 1922.962942123413 | AUC: 0.8565648146104706\n",
      "Epoch 43 | Training loss: 1925.8874626159668 | AUC: 0.855593346654059\n",
      "Epoch 44 | Training loss: 1924.5415601730347 | AUC: 0.8560538284070981\n",
      "Epoch 45 | Training loss: 1913.0342264175415 | AUC: 0.8579689656518809\n",
      "Epoch 46 | Training loss: 1917.7268781661987 | AUC: 0.8572631765686513\n",
      "Epoch 47 | Training loss: 1907.7766876220703 | AUC: 0.8589930600943544\n",
      "Epoch 48 | Training loss: 1903.393542289734 | AUC: 0.860155723469885\n",
      "Epoch 49 | Training loss: 1895.29869556427 | AUC: 0.8612502694985374\n",
      "Epoch 50 | Training loss: 1892.5610637664795 | AUC: 0.8616763742727784\n",
      "Epoch 51 | Training loss: 1889.6039028167725 | AUC: 0.8624248162741466\n",
      "Epoch 52 | Training loss: 1895.3611392974854 | AUC: 0.8613149915882504\n",
      "Epoch 53 | Training loss: 1886.9544124603271 | AUC: 0.8633958598234126\n",
      "Epoch 54 | Training loss: 1886.1010208129883 | AUC: 0.8628778709021369\n",
      "Epoch 55 | Training loss: 1878.7346334457397 | AUC: 0.8646890283962334\n",
      "Epoch 56 | Training loss: 1871.2932062149048 | AUC: 0.8658867053612808\n",
      "Epoch 57 | Training loss: 1885.4907703399658 | AUC: 0.8634733141274954\n",
      "Epoch 58 | Training loss: 1879.8386840820312 | AUC: 0.8644443576767613\n",
      "Epoch 59 | Training loss: 1866.9413928985596 | AUC: 0.8665587540764306\n",
      "Epoch 60 | Training loss: 1860.0734901428223 | AUC: 0.8679607830821128\n",
      "Epoch 61 | Training loss: 1857.2838048934937 | AUC: 0.8684700716569025\n",
      "Epoch 62 | Training loss: 1860.9065885543823 | AUC: 0.8676923455624838\n",
      "Epoch 63 | Training loss: 1858.0059452056885 | AUC: 0.8680989276080244\n",
      "Epoch 64 | Training loss: 1865.7551469802856 | AUC: 0.8666941399558956\n",
      "Epoch 65 | Training loss: 1851.7282829284668 | AUC: 0.8688368655325376\n",
      "Epoch 66 | Training loss: 1865.018533706665 | AUC: 0.8667506922080546\n",
      "Epoch 67 | Training loss: 1854.074673652649 | AUC: 0.8690822789645144\n",
      "Epoch 68 | Training loss: 1849.2573547363281 | AUC: 0.8696772977827274\n",
      "Epoch 69 | Training loss: 1854.308500289917 | AUC: 0.8686466250294963\n",
      "Epoch 70 | Training loss: 1842.6427516937256 | AUC: 0.8709000147693686\n",
      "Epoch 71 | Training loss: 1847.846336364746 | AUC: 0.8699809610954459\n",
      "Epoch 72 | Training loss: 1847.958867073059 | AUC: 0.8698243548586979\n",
      "Epoch 73 | Training loss: 1848.7251501083374 | AUC: 0.8693390452876377\n",
      "Epoch 74 | Training loss: 1843.0714664459229 | AUC: 0.8711245261494219\n",
      "Epoch 75 | Training loss: 1828.9422998428345 | AUC: 0.8734926119204083\n",
      "Epoch 76 | Training loss: 1842.3433742523193 | AUC: 0.8706301979265164\n",
      "Epoch 77 | Training loss: 1836.6891431808472 | AUC: 0.8716989612210703\n",
      "Epoch 78 | Training loss: 1844.2580766677856 | AUC: 0.8705298256365684\n",
      "Epoch 79 | Training loss: 1830.7617692947388 | AUC: 0.8726146196378279\n",
      "Epoch 80 | Training loss: 1825.3291883468628 | AUC: 0.8735862997978125\n",
      "Epoch 81 | Training loss: 1814.7670803070068 | AUC: 0.8759479133598276\n",
      "Epoch 82 | Training loss: 1822.0701293945312 | AUC: 0.874165403348063\n",
      "Epoch 83 | Training loss: 1832.757348060608 | AUC: 0.872527616172968\n",
      "Epoch 84 | Training loss: 1822.5783863067627 | AUC: 0.8743755909869503\n",
      "Epoch 85 | Training loss: 1824.214605331421 | AUC: 0.8737331446702102\n",
      "Epoch 86 | Training loss: 1823.4195709228516 | AUC: 0.8740790364939216\n",
      "Epoch 87 | Training loss: 1836.1739664077759 | AUC: 0.8712656415253532\n",
      "Epoch 88 | Training loss: 1819.5907440185547 | AUC: 0.8746176091617619\n",
      "Epoch 89 | Training loss: 1816.9933414459229 | AUC: 0.8749932094856696\n",
      "Epoch 90 | Training loss: 1822.9675436019897 | AUC: 0.8734392427218419\n",
      "Epoch 91 | Training loss: 1816.6305646896362 | AUC: 0.8751553330153108\n",
      "Epoch 92 | Training loss: 1804.587688446045 | AUC: 0.877171691364333\n",
      "Epoch 93 | Training loss: 1820.7815341949463 | AUC: 0.8739141543178335\n",
      "Epoch 94 | Training loss: 1805.2176780700684 | AUC: 0.8772138137735397\n",
      "Epoch 95 | Training loss: 1816.172547340393 | AUC: 0.874817504927367\n",
      "Epoch 96 | Training loss: 1803.1345672607422 | AUC: 0.8773633111905978\n",
      "Epoch 97 | Training loss: 1801.3828134536743 | AUC: 0.8775566286454454\n",
      "Epoch 98 | Training loss: 1810.9426803588867 | AUC: 0.8763999069699536\n",
      "Epoch 99 | Training loss: 1816.932858467102 | AUC: 0.8750707698915385\n"
     ]
    }
   ],
   "source": [
    "nnet.to(device)\n",
    "\n",
    "loss_list = []\n",
    "train_auc = []\n",
    "for epoch in range(100):\n",
    "\n",
    "    running_loss = 0\n",
    "    running_y_score = []\n",
    "    running_y_label = []\n",
    "    for i, data in enumerate(train_dataloader):\n",
    "\n",
    "        # datos del batch\n",
    "        X_batch, y_batch = data \n",
    "        X_batch = X_batch.to(device).float()\n",
    "        Y_batch = y_batch.to(device).float()\n",
    "\n",
    "        # forward\n",
    "        optimizer.zero_grad()\n",
    "        y_batch_score = nnet(X_batch).reshape(-1)\n",
    "        y_batch_hat = torch.sigmoid(y_batch_score).reshape(-1)\n",
    "\n",
    "        # backpropagation\n",
    "        loss = loss_function(y_batch_score, Y_batch) # calcula el loss\n",
    "        loss.backward() # hacer los gradientes del loss\n",
    "\n",
    "        # actualización de parametros\n",
    "        optimizer.step() \n",
    "\n",
    "        running_loss += loss.item()\n",
    "        running_y_score += list(y_batch_score.detach().cpu().numpy())  \n",
    "        running_y_label += list(Y_batch.detach().cpu().numpy()) \n",
    "\n",
    "    # metrics\n",
    "    loss_list.append(running_loss)\n",
    "    fpt, tpr, _ = metrics.roc_curve(running_y_label, running_y_score)\n",
    "    auc = metrics.auc(fpt, tpr)\n",
    "    train_auc.append(auc)\n",
    "    print(f\"Epoch {epoch} | Training loss: {running_loss} | AUC: {auc}\")\n"
   ]
  },
  {
   "cell_type": "code",
   "execution_count": 46,
   "metadata": {
    "colab": {
     "base_uri": "https://localhost:8080/",
     "height": 282
    },
    "id": "ff9GZZj4e6PE",
    "outputId": "28cb41dc-bd42-41c2-e3b4-e36d18d0e4a6"
   },
   "outputs": [
    {
     "data": {
      "text/plain": [
       "[<matplotlib.lines.Line2D at 0x7fc7c613cf50>]"
      ]
     },
     "execution_count": 46,
     "metadata": {},
     "output_type": "execute_result"
    },
    {
     "data": {
      "image/png": "[encoded data removed]",
      "text/plain": [
       "<Figure size 432x288 with 1 Axes>"
      ]
     },
     "metadata": {
      "needs_background": "light"
     },
     "output_type": "display_data"
    }
   ],
   "source": [
    "fig, ax1 = plt.subplots(1,1)\n",
    "x = range(0, len(train_auc))\n",
    "ax1.plot(x, train_auc)"
   ]
  },
  {
   "cell_type": "code",
   "execution_count": 46,
   "metadata": {
    "id": "cIlMh71Xf6Vb"
   },
   "outputs": [],
   "source": []
  },
  {
   "cell_type": "markdown",
   "metadata": {
    "id": "dehthQngXl17"
   },
   "source": [
    "# NNet with embeddings"
   ]
  },
  {
   "cell_type": "code",
   "execution_count": 47,
   "metadata": {
    "id": "eqtkZ0koXnfi"
   },
   "outputs": [],
   "source": [
    "unique = np.unique(vendor_id)\n",
    "index = np.arange(0, len(unique))\n",
    "vendor_id_to_index = {key: value for key, value in zip(unique, index)}"
   ]
  },
  {
   "cell_type": "code",
   "execution_count": 48,
   "metadata": {
    "id": "adgo0xPCaCmT"
   },
   "outputs": [],
   "source": [
    "vendors_idx = np.array([vendor_id_to_index[vendor] for vendor in vendor_id])"
   ]
  },
  {
   "cell_type": "code",
   "execution_count": 49,
   "metadata": {
    "colab": {
     "base_uri": "https://localhost:8080/"
    },
    "id": "ylMLPk3haiC4",
    "outputId": "109175a3-a6e2-43ea-a60b-e9ecc35d0c3e"
   },
   "outputs": [
    {
     "name": "stdout",
     "output_type": "stream",
     "text": [
      "499\n",
      "0\n"
     ]
    }
   ],
   "source": [
    "print(max(vendors_idx))\n",
    "print(min(vendors_idx))"
   ]
  },
  {
   "cell_type": "code",
   "execution_count": 50,
   "metadata": {
    "id": "zam3uekkan9Y"
   },
   "outputs": [],
   "source": [
    "class CustomDatasetWithEmb(Dataset):\n",
    "\n",
    "    def __init__(self, X, vendors_idx, y):\n",
    "        super().__init__()\n",
    "        self.X = X\n",
    "        self.vendors_idx = vendors_idx\n",
    "        self.y = y\n",
    "\n",
    "    def __len__(self):\n",
    "        return self.X.shape[0]\n",
    "\n",
    "    def __getitem__(self, idx):\n",
    "        return self.X[idx], self.vendors_idx[idx], self.y[idx]"
   ]
  },
  {
   "cell_type": "code",
   "execution_count": 51,
   "metadata": {
    "id": "vFfmOGUHbDG7"
   },
   "outputs": [],
   "source": [
    "vendors_index_train = vendors_idx[train_idx]  \n",
    "vendors_index_val = vendors_idx[valid_idx]\n",
    "train = CustomDatasetWithEmb(X_train, vendors_index_train, y_train)\n",
    "valid = CustomDatasetWithEmb(X_valid, vendors_index_val, y_valid)"
   ]
  },
  {
   "cell_type": "code",
   "execution_count": 52,
   "metadata": {
    "id": "5imzVPkNbih_"
   },
   "outputs": [],
   "source": [
    "train_dataloader = DataLoader(train, batch_size=64, shuffle=True)\n",
    "valid_dataloader = DataLoader(valid, batch_size=64, shuffle=True)"
   ]
  },
  {
   "cell_type": "code",
   "execution_count": 53,
   "metadata": {
    "id": "nVqmme-1bzrg"
   },
   "outputs": [],
   "source": [
    "class NNetWithEmbeddings(torch.nn.Module):\n",
    "\n",
    "    def __init__(self, number_of_vendors, d):\n",
    "        super().__init__()\n",
    "        self.embedding = torch.nn.Embedding(num_embeddings=number_of_vendors, embedding_dim=d)\n",
    "        self.linear_1 = torch.nn.Linear(in_features=(13+d), out_features=100, bias=True)\n",
    "        self.relu_1 = torch.nn.ReLU()\n",
    "        self.linear_2 = torch.nn.Linear(in_features=100, out_features=50, bias=True)\n",
    "        self.relu_2 = torch.nn.ReLU()\n",
    "        self.output = torch.nn.Linear(in_features=50, out_features=1, bias=True)\n",
    "\n",
    "    def forward(self, x, vendor_idx):\n",
    "        vendor_emb = self.embedding(vendor_idx) # (64, d)\n",
    "\n",
    "        final_input = torch.cat([x, vendor_emb], dim=1) # (64, 13+d)\n",
    "\n",
    "        x = self.linear_1(final_input) \n",
    "        x = self.relu_1(x)\n",
    "        x = self.linear_2(x)\n",
    "        x = self.relu_2(x)        \n",
    "        x = self.output(x) \n",
    "        return x\n"
   ]
  },
  {
   "cell_type": "code",
   "execution_count": 54,
   "metadata": {
    "id": "S5tP8PQJdaOA"
   },
   "outputs": [],
   "source": [
    "nnet2 = NNetWithEmbeddings(number_of_vendors=500, d=8)\n",
    "optimizer = torch.optim.Adam(nnet2.parameters(), lr=0.001)\n",
    "loss_function = torch.nn.BCEWithLogitsLoss(reduction=\"sum\")"
   ]
  },
  {
   "cell_type": "code",
   "execution_count": 55,
   "metadata": {
    "colab": {
     "base_uri": "https://localhost:8080/"
    },
    "id": "FovucZ-OdnaW",
    "outputId": "cc393995-2ecb-4519-be7f-fd397473744f"
   },
   "outputs": [
    {
     "name": "stdout",
     "output_type": "stream",
     "text": [
      "NNet(\n",
      "  (linear_1): Linear(in_features=13, out_features=100, bias=True)\n",
      "  (relu_1): ReLU()\n",
      "  (linear_2): Linear(in_features=100, out_features=50, bias=True)\n",
      "  (relu_2): ReLU()\n",
      "  (output): Linear(in_features=50, out_features=1, bias=True)\n",
      ")\n"
     ]
    }
   ],
   "source": [
    "print(nnet)"
   ]
  },
  {
   "cell_type": "code",
   "execution_count": 56,
   "metadata": {
    "colab": {
     "base_uri": "https://localhost:8080/"
    },
    "id": "Lt6EfDXvdpZn",
    "outputId": "13ebadaf-fb06-468d-b80a-2063055d267e"
   },
   "outputs": [
    {
     "name": "stdout",
     "output_type": "stream",
     "text": [
      "NNetWithEmbeddings(\n",
      "  (embedding): Embedding(500, 8)\n",
      "  (linear_1): Linear(in_features=21, out_features=100, bias=True)\n",
      "  (relu_1): ReLU()\n",
      "  (linear_2): Linear(in_features=100, out_features=50, bias=True)\n",
      "  (relu_2): ReLU()\n",
      "  (output): Linear(in_features=50, out_features=1, bias=True)\n",
      ")\n"
     ]
    }
   ],
   "source": [
    "print(nnet2)"
   ]
  },
  {
   "cell_type": "code",
   "execution_count": 57,
   "metadata": {
    "colab": {
     "base_uri": "https://localhost:8080/"
    },
    "id": "c5GSkGw-drh3",
    "outputId": "b8cd15b5-1d57-416a-fa56-c29b3d17fc9b"
   },
   "outputs": [
    {
     "name": "stdout",
     "output_type": "stream",
     "text": [
      "Epoch 0 | Training loss: 2756.7367839813232 | AUC: 0.5749855277163332\n",
      "Epoch 1 | Training loss: 2419.976249694824 | AUC: 0.7409357243866043\n",
      "Epoch 2 | Training loss: 2001.596926689148 | AUC: 0.8531986293346824\n",
      "Epoch 3 | Training loss: 1482.6205005645752 | AUC: 0.9206120969617541\n",
      "Epoch 4 | Training loss: 1082.5851383209229 | AUC: 0.9571892024031631\n",
      "Epoch 5 | Training loss: 797.8735542297363 | AUC: 0.9768033908433309\n",
      "Epoch 6 | Training loss: 585.5692517757416 | AUC: 0.9868053940450585\n",
      "Epoch 7 | Training loss: 437.192990064621 | AUC: 0.9917764749421534\n",
      "Epoch 8 | Training loss: 343.3926727771759 | AUC: 0.9949561332774248\n",
      "Epoch 9 | Training loss: 264.0577167272568 | AUC: 0.9964375264193448\n",
      "Epoch 10 | Training loss: 204.44328886270523 | AUC: 0.9972511149175717\n",
      "Epoch 11 | Training loss: 165.9811728000641 | AUC: 0.9980432708549427\n",
      "Epoch 12 | Training loss: 136.27102990448475 | AUC: 0.9982278879633042\n",
      "Epoch 13 | Training loss: 110.90197689831257 | AUC: 0.9985510740047228\n",
      "Epoch 14 | Training loss: 92.04273720085621 | AUC: 0.9988050816813993\n",
      "Epoch 15 | Training loss: 76.31888275593519 | AUC: 0.9991282677228179\n",
      "Epoch 16 | Training loss: 64.55197447538376 | AUC: 0.9993330441705981\n",
      "Epoch 17 | Training loss: 53.86039391905069 | AUC: 0.9995055656753082\n",
      "Epoch 18 | Training loss: 45.542161367833614 | AUC: 0.9998533673311751\n",
      "Epoch 19 | Training loss: 36.290738862007856 | AUC: 0.9998926249921485\n",
      "Epoch 20 | Training loss: 30.10903252288699 | AUC: 0.9999482223282298\n",
      "Epoch 21 | Training loss: 25.914197962731123 | AUC: 0.9999885410070672\n",
      "Epoch 22 | Training loss: 18.769497379660606 | AUC: 0.9999889654142129\n",
      "Epoch 23 | Training loss: 15.738365963101387 | AUC: 0.9999953315213977\n",
      "Epoch 24 | Training loss: 12.484640810638666 | AUC: 0.9999997877964272\n",
      "Epoch 25 | Training loss: 10.447351622395217 | AUC: 1.0\n",
      "Epoch 26 | Training loss: 8.450235172174871 | AUC: 1.0\n",
      "Epoch 27 | Training loss: 7.131842509843409 | AUC: 1.0\n",
      "Epoch 28 | Training loss: 5.739642824046314 | AUC: 1.0\n",
      "Epoch 29 | Training loss: 5.151547331362963 | AUC: 1.0\n",
      "Epoch 30 | Training loss: 4.406413187272847 | AUC: 1.0\n",
      "Epoch 31 | Training loss: 3.8211244316771626 | AUC: 1.0\n",
      "Epoch 32 | Training loss: 3.3512227782048285 | AUC: 1.0\n",
      "Epoch 33 | Training loss: 3.025758990086615 | AUC: 1.0\n",
      "Epoch 34 | Training loss: 2.7029565698467195 | AUC: 1.0\n",
      "Epoch 35 | Training loss: 2.4164817086420953 | AUC: 1.0\n",
      "Epoch 36 | Training loss: 2.154186907922849 | AUC: 1.0\n",
      "Epoch 37 | Training loss: 1.9260417497716844 | AUC: 1.0\n",
      "Epoch 38 | Training loss: 1.828153798589483 | AUC: 1.0\n",
      "Epoch 39 | Training loss: 1.5966102718375623 | AUC: 1.0\n",
      "Epoch 40 | Training loss: 1.4385570473968983 | AUC: 1.0\n",
      "Epoch 41 | Training loss: 1.328101292368956 | AUC: 1.0\n",
      "Epoch 42 | Training loss: 1.2048906713025644 | AUC: 1.0\n",
      "Epoch 43 | Training loss: 1.1153916853945702 | AUC: 1.0\n",
      "Epoch 44 | Training loss: 1.011920451070182 | AUC: 1.0\n",
      "Epoch 45 | Training loss: 0.9325133502716199 | AUC: 1.0\n",
      "Epoch 46 | Training loss: 0.8607625419972464 | AUC: 1.0\n",
      "Epoch 47 | Training loss: 0.7863712760736234 | AUC: 1.0\n",
      "Epoch 48 | Training loss: 0.7369448851095513 | AUC: 1.0\n",
      "Epoch 49 | Training loss: 0.6714602099382319 | AUC: 1.0\n",
      "Epoch 50 | Training loss: 0.6350257318117656 | AUC: 1.0\n",
      "Epoch 51 | Training loss: 0.58255199494306 | AUC: 1.0\n",
      "Epoch 52 | Training loss: 0.5465074139065109 | AUC: 1.0\n",
      "Epoch 53 | Training loss: 0.5040954470168799 | AUC: 1.0\n",
      "Epoch 54 | Training loss: 0.4751039074617438 | AUC: 1.0\n",
      "Epoch 55 | Training loss: 0.4423899253306445 | AUC: 1.0\n",
      "Epoch 56 | Training loss: 0.40808255717274733 | AUC: 1.0\n",
      "Epoch 57 | Training loss: 0.38113572902511805 | AUC: 1.0\n",
      "Epoch 58 | Training loss: 0.357187281770166 | AUC: 1.0\n",
      "Epoch 59 | Training loss: 0.33359653066145256 | AUC: 1.0\n",
      "Epoch 60 | Training loss: 0.3167836467619054 | AUC: 1.0\n",
      "Epoch 61 | Training loss: 0.29033108142903075 | AUC: 1.0\n",
      "Epoch 62 | Training loss: 0.2748221419460606 | AUC: 1.0\n",
      "Epoch 63 | Training loss: 0.25802699498308357 | AUC: 1.0\n",
      "Epoch 64 | Training loss: 0.2418602190009551 | AUC: 1.0\n",
      "Epoch 65 | Training loss: 0.22593770577805117 | AUC: 1.0\n",
      "Epoch 66 | Training loss: 0.21245874786109198 | AUC: 1.0\n",
      "Epoch 67 | Training loss: 0.20097401703242213 | AUC: 1.0\n",
      "Epoch 68 | Training loss: 0.19046345124661457 | AUC: 1.0\n",
      "Epoch 69 | Training loss: 0.17849930784723256 | AUC: 1.0\n",
      "Epoch 70 | Training loss: 0.16520403196045663 | AUC: 1.0\n",
      "Epoch 71 | Training loss: 0.15607359855493996 | AUC: 1.0\n",
      "Epoch 72 | Training loss: 0.14875678064709064 | AUC: 1.0\n",
      "Epoch 73 | Training loss: 0.13785791461123154 | AUC: 1.0\n",
      "Epoch 74 | Training loss: 0.13034226102899993 | AUC: 1.0\n",
      "Epoch 75 | Training loss: 0.12284498313965742 | AUC: 1.0\n",
      "Epoch 76 | Training loss: 0.11626144412730355 | AUC: 1.0\n",
      "Epoch 77 | Training loss: 0.10871407605736749 | AUC: 1.0\n",
      "Epoch 78 | Training loss: 0.10252873112040106 | AUC: 1.0\n",
      "Epoch 79 | Training loss: 0.09765328044886701 | AUC: 1.0\n",
      "Epoch 80 | Training loss: 0.09192335286934394 | AUC: 1.0\n",
      "Epoch 81 | Training loss: 0.08590885951707605 | AUC: 1.0\n",
      "Epoch 82 | Training loss: 0.08210842990229139 | AUC: 1.0\n",
      "Epoch 83 | Training loss: 0.07714478750131093 | AUC: 1.0\n",
      "Epoch 84 | Training loss: 0.07288347676148987 | AUC: 1.0\n",
      "Epoch 85 | Training loss: 0.06886139338894282 | AUC: 1.0\n",
      "Epoch 86 | Training loss: 0.06527711931994418 | AUC: 1.0\n",
      "Epoch 87 | Training loss: 0.06166126303287456 | AUC: 1.0\n",
      "Epoch 88 | Training loss: 0.05819148996670265 | AUC: 1.0\n",
      "Epoch 89 | Training loss: 0.05478632050653687 | AUC: 1.0\n",
      "Epoch 90 | Training loss: 0.05214176374101953 | AUC: 1.0\n",
      "Epoch 91 | Training loss: 0.04910986524555483 | AUC: 1.0\n",
      "Epoch 92 | Training loss: 0.046603235554357525 | AUC: 1.0\n",
      "Epoch 93 | Training loss: 0.044024697272107005 | AUC: 1.0\n",
      "Epoch 94 | Training loss: 0.04199754976070835 | AUC: 1.0\n",
      "Epoch 95 | Training loss: 0.03924408803868573 | AUC: 1.0\n",
      "Epoch 96 | Training loss: 0.037335972858272726 | AUC: 1.0\n",
      "Epoch 97 | Training loss: 0.03549139877759444 | AUC: 1.0\n",
      "Epoch 98 | Training loss: 0.03353609869009233 | AUC: 1.0\n",
      "Epoch 99 | Training loss: 0.031611424157745205 | AUC: 1.0\n"
     ]
    }
   ],
   "source": [
    "nnet = nnet2\n",
    "\n",
    "nnet.to(device)\n",
    "\n",
    "loss_list = []\n",
    "train_auc = []\n",
    "for epoch in range(100):\n",
    "\n",
    "    running_loss = 0\n",
    "    running_y_score = []\n",
    "    running_y_label = []\n",
    "\n",
    "    #### TRAINING ####\n",
    "\n",
    "    for i, data in enumerate(train_dataloader):\n",
    "\n",
    "        # datos del batch\n",
    "        X_batch, vendor_idx_batch, y_batch = data \n",
    "        X_batch = X_batch.to(device).float()\n",
    "        vendor_idx_batch = vendor_idx_batch.to(device)\n",
    "        Y_batch = y_batch.to(device).float()\n",
    "\n",
    "        # forward\n",
    "        optimizer.zero_grad()\n",
    "        y_batch_score = nnet(X_batch, vendor_idx_batch).reshape(-1)\n",
    "        y_batch_hat = torch.sigmoid(y_batch_score).reshape(-1)\n",
    "\n",
    "        # backpropagation\n",
    "        loss = loss_function(y_batch_score, Y_batch) # calcula el loss\n",
    "        loss.backward() # hacer los gradientes del loss\n",
    "\n",
    "        # actualización de parametros\n",
    "        optimizer.step() \n",
    "\n",
    "        running_loss += loss.item()\n",
    "        running_y_score += list(y_batch_score.detach().cpu().numpy())  \n",
    "        running_y_label += list(Y_batch.detach().cpu().numpy()) \n",
    "\n",
    "    # metrics\n",
    "    loss_list.append(running_loss)\n",
    "    fpt, tpr, _ = metrics.roc_curve(running_y_label, running_y_score)\n",
    "    auc = metrics.auc(fpt, tpr)\n",
    "    train_auc.append(auc)\n",
    "    print(f\"Epoch {epoch} | Training loss: {running_loss} | AUC: {auc}\")\n",
    "\n",
    "    #### VALIDATION ####\n",
    "\n"
   ]
  },
  {
   "cell_type": "code",
   "execution_count": null,
   "metadata": {
    "id": "Y2SJaCiieOPK"
   },
   "outputs": [],
   "source": [
    "#### VALIDATION ####\n",
    "nnet.eval()\n",
    "with torch.no_grad():\n",
    "\n",
    "  for i, data in enumerate(valid_dataloader):\n",
    "\n",
    "    # TODO: pasos para acumular validation loss\n",
    "    # TODO: pasos para acumular y_score and y\n",
    "\n",
    "  # TODO: pasos para calcular las metrics (AUC)\n",
    "\n",
    "\n",
    "# TODO\n",
    "# PLOT train loss and valid loss vs epochs\n",
    "# PLOT train auc loss and valid auc vs epochs\n"
   ]
  }
 ],
 "metadata": {
  "accelerator": "GPU",
  "colab": {
   "collapsed_sections": [],
   "name": "DL_S5_C4.ipynb",
   "provenance": []
  },
  "gpuClass": "standard",
  "kernelspec": {
   "display_name": "Python 3 (ipykernel)",
   "language": "python",
   "name": "python3"
  },
  "language_info": {
   "codemirror_mode": {
    "name": "ipython",
    "version": 3
   },
   "file_extension": ".py",
   "mimetype": "text/x-python",
   "name": "python",
   "nbconvert_exporter": "python",
   "pygments_lexer": "ipython3",
   "version": "3.10.4"
  }
 },
 "nbformat": 4,
 "nbformat_minor": 1
}
