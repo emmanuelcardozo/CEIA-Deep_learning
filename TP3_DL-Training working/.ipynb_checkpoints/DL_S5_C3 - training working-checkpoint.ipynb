{
 "cells": [
  {
   "cell_type": "code",
   "execution_count": 24,
   "metadata": {
    "id": "tRGoyK_dAJAN"
   },
   "outputs": [],
   "source": [
    "import pandas as pd\n",
    "df = pd.read_csv(\"/content/drive/MyDrive/Esponyckyj/Dataset/class_7_wine_dataset_v2.csv\")"
   ]
  },
  {
   "cell_type": "code",
   "execution_count": 25,
   "metadata": {
    "colab": {
     "base_uri": "https://localhost:8080/"
    },
    "id": "KII75g_CA2FV",
    "outputId": "2a87c070-ae60-420d-aec7-7aab0c8db5c8"
   },
   "outputs": [
    {
     "data": {
      "text/plain": [
       "6497"
      ]
     },
     "execution_count": 25,
     "metadata": {},
     "output_type": "execute_result"
    }
   ],
   "source": [
    "len(df) # cantidad de filas"
   ]
  },
  {
   "cell_type": "code",
   "execution_count": 26,
   "metadata": {
    "colab": {
     "base_uri": "https://localhost:8080/"
    },
    "id": "-DwTipsfBKiU",
    "outputId": "6d4d6fb3-d4f4-470b-bbe8-8f1d3c57832c"
   },
   "outputs": [
    {
     "name": "stdout",
     "output_type": "stream",
     "text": [
      "<class 'pandas.core.frame.DataFrame'>\n",
      "RangeIndex: 6497 entries, 0 to 6496\n",
      "Data columns (total 15 columns):\n",
      " #   Column                Non-Null Count  Dtype  \n",
      "---  ------                --------------  -----  \n",
      " 0   Unnamed: 0            6497 non-null   int64  \n",
      " 1   type                  6497 non-null   object \n",
      " 2   fixed acidity         6487 non-null   float64\n",
      " 3   volatile acidity      6489 non-null   float64\n",
      " 4   citric acid           6494 non-null   float64\n",
      " 5   residual sugar        6495 non-null   float64\n",
      " 6   chlorides             6495 non-null   float64\n",
      " 7   free sulfur dioxide   6497 non-null   float64\n",
      " 8   total sulfur dioxide  6497 non-null   float64\n",
      " 9   density               6497 non-null   float64\n",
      " 10  pH                    6488 non-null   float64\n",
      " 11  sulphates             6493 non-null   float64\n",
      " 12  alcohol               6497 non-null   float64\n",
      " 13  quality               6497 non-null   int64  \n",
      " 14  vendor_id             6497 non-null   int64  \n",
      "dtypes: float64(11), int64(3), object(1)\n",
      "memory usage: 761.5+ KB\n"
     ]
    }
   ],
   "source": [
    "df.info()"
   ]
  },
  {
   "cell_type": "code",
   "execution_count": 27,
   "metadata": {
    "colab": {
     "base_uri": "https://localhost:8080/"
    },
    "id": "m2DAOPQwBM3a",
    "outputId": "61dd5500-f0c6-47e6-b73a-1d5c2cd8765d"
   },
   "outputs": [
    {
     "name": "stdout",
     "output_type": "stream",
     "text": [
      "   Unnamed: 0   type  fixed acidity  volatile acidity  citric acid  \\\n",
      "0           0  white            7.0              0.27         0.36   \n",
      "1           1  white            6.3              0.30         0.34   \n",
      "2           2  white            8.1              0.28         0.40   \n",
      "3           3  white            7.2              0.23         0.32   \n",
      "4           4  white            7.2              0.23         0.32   \n",
      "\n",
      "   residual sugar  chlorides  free sulfur dioxide  total sulfur dioxide  \\\n",
      "0            20.7      0.045                 45.0                 170.0   \n",
      "1             1.6      0.049                 14.0                 132.0   \n",
      "2             6.9      0.050                 30.0                  97.0   \n",
      "3             8.5      0.058                 47.0                 186.0   \n",
      "4             8.5      0.058                 47.0                 186.0   \n",
      "\n",
      "   density    pH  sulphates  alcohol  quality  vendor_id  \n",
      "0   1.0010  3.00       0.45      8.8        6        369  \n",
      "1   0.9940  3.30       0.49      9.5        6        361  \n",
      "2   0.9951  3.26       0.44     10.1        6        354  \n",
      "3   0.9956  3.19       0.40      9.9        6        325  \n",
      "4   0.9956  3.19       0.40      9.9        6        375  \n"
     ]
    }
   ],
   "source": [
    "print(df.head())"
   ]
  },
  {
   "cell_type": "code",
   "execution_count": 28,
   "metadata": {
    "id": "iGXt_8GFBlpm"
   },
   "outputs": [],
   "source": [
    "import numpy as np\n",
    "import torch\n",
    "import matplotlib.pyplot as plt\n",
    "from sklearn import preprocessing\n",
    "from scipy import stats"
   ]
  },
  {
   "cell_type": "code",
   "execution_count": 29,
   "metadata": {
    "colab": {
     "base_uri": "https://localhost:8080/"
    },
    "id": "NZGRUWXzBt2v",
    "outputId": "2c99900c-28cc-4ff7-edba-803040d5a876"
   },
   "outputs": [
    {
     "name": "stdout",
     "output_type": "stream",
     "text": [
      "3\n",
      "9\n"
     ]
    }
   ],
   "source": [
    "print(np.min(df.quality))\n",
    "print(np.max(df.quality))"
   ]
  },
  {
   "cell_type": "code",
   "execution_count": 30,
   "metadata": {
    "colab": {
     "base_uri": "https://localhost:8080/",
     "height": 334
    },
    "id": "phs_G-OeCFGZ",
    "outputId": "af784ada-e954-49b6-a58a-d245212a755f"
   },
   "outputs": [
    {
     "data": {
      "text/plain": [
       "(array([  30.,  216.,    0., 2138.,    0., 2836., 1079.,    0.,  193.,\n",
       "           5.]),\n",
       " array([3. , 3.6, 4.2, 4.8, 5.4, 6. , 6.6, 7.2, 7.8, 8.4, 9. ]),\n",
       " <a list of 10 Patch objects>)"
      ]
     },
     "execution_count": 30,
     "metadata": {},
     "output_type": "execute_result"
    },
    {
     "data": {
      "image/png": "[encoded data removed]",
      "text/plain": [
       "<Figure size 432x288 with 1 Axes>"
      ]
     },
     "metadata": {
      "needs_background": "light"
     },
     "output_type": "display_data"
    }
   ],
   "source": [
    "quality = df.quality.to_numpy()\n",
    "fix, ax1 = plt.subplots(1,1)\n",
    "ax1.hist(quality)"
   ]
  },
  {
   "cell_type": "code",
   "execution_count": 31,
   "metadata": {
    "colab": {
     "base_uri": "https://localhost:8080/"
    },
    "id": "FxAaiN5qByyu",
    "outputId": "8bb1edac-664c-464c-d983-917ccf5e970e"
   },
   "outputs": [
    {
     "name": "stdout",
     "output_type": "stream",
     "text": [
      "5220\n",
      "1277\n"
     ]
    }
   ],
   "source": [
    "df[\"quality_label\"] = df.quality.apply(lambda label: 0 if label <= 6 else 1)\n",
    "print(len(df[df[\"quality_label\"] == 0])) # bad quality \n",
    "print(len(df[df[\"quality_label\"] == 1])) # good quality"
   ]
  },
  {
   "cell_type": "code",
   "execution_count": null,
   "metadata": {
    "id": "YOHKjGkECuMP"
   },
   "outputs": [],
   "source": [
    "# clasificación binaria -> modelo tonto -> siempre devolver la clase mayoritaria\n",
    "# regresion -> modelo totno -> siempre devolver el promedio de tu salida"
   ]
  },
  {
   "cell_type": "markdown",
   "metadata": {
    "id": "PzoEyU2lDwje"
   },
   "source": [
    "## Ingeniería de features"
   ]
  },
  {
   "cell_type": "code",
   "execution_count": 32,
   "metadata": {
    "colab": {
     "base_uri": "https://localhost:8080/"
    },
    "id": "xb-rkWybDy4P",
    "outputId": "8b3f185d-070d-4bfd-b06c-441c076518b1"
   },
   "outputs": [
    {
     "name": "stdout",
     "output_type": "stream",
     "text": [
      "<class 'pandas.core.frame.DataFrame'>\n",
      "RangeIndex: 6497 entries, 0 to 6496\n",
      "Data columns (total 16 columns):\n",
      " #   Column                Non-Null Count  Dtype  \n",
      "---  ------                --------------  -----  \n",
      " 0   Unnamed: 0            6497 non-null   int64  \n",
      " 1   type                  6497 non-null   object \n",
      " 2   fixed acidity         6487 non-null   float64\n",
      " 3   volatile acidity      6489 non-null   float64\n",
      " 4   citric acid           6494 non-null   float64\n",
      " 5   residual sugar        6495 non-null   float64\n",
      " 6   chlorides             6495 non-null   float64\n",
      " 7   free sulfur dioxide   6497 non-null   float64\n",
      " 8   total sulfur dioxide  6497 non-null   float64\n",
      " 9   density               6497 non-null   float64\n",
      " 10  pH                    6488 non-null   float64\n",
      " 11  sulphates             6493 non-null   float64\n",
      " 12  alcohol               6497 non-null   float64\n",
      " 13  quality               6497 non-null   int64  \n",
      " 14  vendor_id             6497 non-null   int64  \n",
      " 15  quality_label         6497 non-null   int64  \n",
      "dtypes: float64(11), int64(4), object(1)\n",
      "memory usage: 812.2+ KB\n"
     ]
    }
   ],
   "source": [
    "df.info()"
   ]
  },
  {
   "cell_type": "code",
   "execution_count": 36,
   "metadata": {
    "colab": {
     "base_uri": "https://localhost:8080/"
    },
    "id": "7flcpT4WEDqg",
    "outputId": "7c5adae9-6536-4d34-969b-a3b2a8597adb"
   },
   "outputs": [
    {
     "name": "stdout",
     "output_type": "stream",
     "text": [
      "['white' 'red']\n",
      "<class 'pandas.core.frame.DataFrame'>\n",
      "RangeIndex: 6497 entries, 0 to 6496\n",
      "Data columns (total 2 columns):\n",
      " #   Column      Non-Null Count  Dtype\n",
      "---  ------      --------------  -----\n",
      " 0   type_red    6497 non-null   uint8\n",
      " 1   type_white  6497 non-null   uint8\n",
      "dtypes: uint8(2)\n",
      "memory usage: 12.8 KB\n",
      "<class 'pandas.core.frame.DataFrame'>\n",
      "RangeIndex: 6497 entries, 0 to 6496\n",
      "Data columns (total 18 columns):\n",
      " #   Column                Non-Null Count  Dtype  \n",
      "---  ------                --------------  -----  \n",
      " 0   Unnamed: 0            6497 non-null   int64  \n",
      " 1   type                  6497 non-null   object \n",
      " 2   fixed acidity         6487 non-null   float64\n",
      " 3   volatile acidity      6489 non-null   float64\n",
      " 4   citric acid           6494 non-null   float64\n",
      " 5   residual sugar        6495 non-null   float64\n",
      " 6   chlorides             6495 non-null   float64\n",
      " 7   free sulfur dioxide   6497 non-null   float64\n",
      " 8   total sulfur dioxide  6497 non-null   float64\n",
      " 9   density               6497 non-null   float64\n",
      " 10  pH                    6488 non-null   float64\n",
      " 11  sulphates             6493 non-null   float64\n",
      " 12  alcohol               6497 non-null   float64\n",
      " 13  quality               6497 non-null   int64  \n",
      " 14  vendor_id             6497 non-null   int64  \n",
      " 15  quality_label         6497 non-null   int64  \n",
      " 16  type_red              6497 non-null   uint8  \n",
      " 17  type_white            6497 non-null   uint8  \n",
      "dtypes: float64(11), int64(4), object(1), uint8(2)\n",
      "memory usage: 824.9+ KB\n"
     ]
    }
   ],
   "source": [
    "# Analicemos la variable tipo\n",
    "print(df[\"type\"].unique())\n",
    "type_dummies = pd.get_dummies(df[\"type\"], prefix=\"type\") # -> one hot encoding\n",
    "type_dummies.info() \n",
    "\n",
    "# concatenar esta representación del type al dataset original\n",
    "dataset = pd.concat([df, type_dummies], axis=1)\n",
    "dataset.info()"
   ]
  },
  {
   "cell_type": "code",
   "execution_count": 37,
   "metadata": {
    "colab": {
     "base_uri": "https://localhost:8080/"
    },
    "id": "vtKdw58tEORZ",
    "outputId": "ab13e1ee-0a5a-4677-ccc8-687a72407839"
   },
   "outputs": [
    {
     "name": "stdout",
     "output_type": "stream",
     "text": [
      "500\n"
     ]
    }
   ],
   "source": [
    "# Analicemos la vendor_id\n",
    "print(len(dataset[\"vendor_id\"].unique())) # -> embeddings"
   ]
  },
  {
   "cell_type": "code",
   "execution_count": null,
   "metadata": {
    "id": "dMwKiCmNFSSe"
   },
   "outputs": [],
   "source": []
  },
  {
   "cell_type": "markdown",
   "metadata": {
    "id": "y-8seDrIGuGr"
   },
   "source": [
    "# Limpiar el dataset removiendo nans"
   ]
  },
  {
   "cell_type": "code",
   "execution_count": 44,
   "metadata": {
    "colab": {
     "base_uri": "https://localhost:8080/"
    },
    "id": "L15QLFCnGwEb",
    "outputId": "4be15a40-d2be-4d62-fe46-66ae9b12b1be"
   },
   "outputs": [
    {
     "name": "stdout",
     "output_type": "stream",
     "text": [
      "(0, 18)\n"
     ]
    }
   ],
   "source": [
    "nans = dataset[dataset.isna().sum(axis=1) >= 1]\n",
    "print(nans.shape)"
   ]
  },
  {
   "cell_type": "code",
   "execution_count": 45,
   "metadata": {
    "colab": {
     "base_uri": "https://localhost:8080/"
    },
    "id": "RT1EvF9RHFHn",
    "outputId": "97482d19-1a8f-4b94-dc95-74bae71f1b2e"
   },
   "outputs": [
    {
     "name": "stdout",
     "output_type": "stream",
     "text": [
      "(6463, 18)\n"
     ]
    }
   ],
   "source": [
    "dataset = dataset[dataset.isna().sum(axis=1) == 0]\n",
    "print(dataset.shape)"
   ]
  },
  {
   "cell_type": "code",
   "execution_count": 46,
   "metadata": {
    "id": "vVA38HoBHbqS"
   },
   "outputs": [],
   "source": [
    "y = dataset[\"quality_label\"]\n",
    "X = dataset.drop([\"Unnamed: 0\", \"type\", \"quality\", \"quality_label\", \"vendor_id\"], axis=1)\n"
   ]
  },
  {
   "cell_type": "code",
   "execution_count": null,
   "metadata": {
    "id": "1ID6WuAmIsL-"
   },
   "outputs": [],
   "source": []
  },
  {
   "cell_type": "markdown",
   "metadata": {
    "id": "xuuiz94jL95V"
   },
   "source": [
    "## Normalización"
   ]
  },
  {
   "cell_type": "code",
   "execution_count": 47,
   "metadata": {
    "id": "4ZziRQRGL_fN"
   },
   "outputs": [],
   "source": [
    "X_norm = (X - np.min(X, axis=0)) / (np.max(X, axis=0) - np.min(X, axis=0))"
   ]
  },
  {
   "cell_type": "code",
   "execution_count": 48,
   "metadata": {
    "colab": {
     "base_uri": "https://localhost:8080/"
    },
    "id": "heiUcF4-OeKI",
    "outputId": "1d12d42f-e933-4fd9-e007-9360163e6a12"
   },
   "outputs": [
    {
     "name": "stdout",
     "output_type": "stream",
     "text": [
      "fixed acidity           0.0\n",
      "volatile acidity        0.0\n",
      "citric acid             0.0\n",
      "residual sugar          0.0\n",
      "chlorides               0.0\n",
      "free sulfur dioxide     0.0\n",
      "total sulfur dioxide    0.0\n",
      "density                 0.0\n",
      "pH                      0.0\n",
      "sulphates               0.0\n",
      "alcohol                 0.0\n",
      "type_red                0.0\n",
      "type_white              0.0\n",
      "dtype: float64\n",
      "fixed acidity           1.0\n",
      "volatile acidity        1.0\n",
      "citric acid             1.0\n",
      "residual sugar          1.0\n",
      "chlorides               1.0\n",
      "free sulfur dioxide     1.0\n",
      "total sulfur dioxide    1.0\n",
      "density                 1.0\n",
      "pH                      1.0\n",
      "sulphates               1.0\n",
      "alcohol                 1.0\n",
      "type_red                1.0\n",
      "type_white              1.0\n",
      "dtype: float64\n"
     ]
    }
   ],
   "source": [
    "print(np.min(X_norm, axis=0))\n",
    "print(np.max(X_norm, axis=0))"
   ]
  },
  {
   "cell_type": "code",
   "execution_count": 50,
   "metadata": {
    "colab": {
     "base_uri": "https://localhost:8080/",
     "height": 399
    },
    "id": "ik1CR2FtOqzI",
    "outputId": "fbf49b41-b75b-4852-ffdb-49d68d2abf5b"
   },
   "outputs": [
    {
     "data": {
      "text/html": [
       "\n",
       "  <div id=\"df-4529d568-4c14-439b-bbdd-446653234ac1\">\n",
       "    <div class=\"colab-df-container\">\n",
       "      <div>\n",
       "<style scoped>\n",
       "    .dataframe tbody tr th:only-of-type {\n",
       "        vertical-align: middle;\n",
       "    }\n",
       "\n",
       "    .dataframe tbody tr th {\n",
       "        vertical-align: top;\n",
       "    }\n",
       "\n",
       "    .dataframe thead th {\n",
       "        text-align: right;\n",
       "    }\n",
       "</style>\n",
       "<table border=\"1\" class=\"dataframe\">\n",
       "  <thead>\n",
       "    <tr style=\"text-align: right;\">\n",
       "      <th></th>\n",
       "      <th>fixed acidity</th>\n",
       "      <th>volatile acidity</th>\n",
       "      <th>citric acid</th>\n",
       "      <th>residual sugar</th>\n",
       "      <th>chlorides</th>\n",
       "      <th>free sulfur dioxide</th>\n",
       "      <th>total sulfur dioxide</th>\n",
       "      <th>density</th>\n",
       "      <th>pH</th>\n",
       "      <th>sulphates</th>\n",
       "      <th>alcohol</th>\n",
       "      <th>type_red</th>\n",
       "      <th>type_white</th>\n",
       "    </tr>\n",
       "  </thead>\n",
       "  <tbody>\n",
       "    <tr>\n",
       "      <th>count</th>\n",
       "      <td>6463.000000</td>\n",
       "      <td>6463.000000</td>\n",
       "      <td>6463.000000</td>\n",
       "      <td>6463.000000</td>\n",
       "      <td>6463.000000</td>\n",
       "      <td>6463.000000</td>\n",
       "      <td>6463.000000</td>\n",
       "      <td>6463.000000</td>\n",
       "      <td>6463.000000</td>\n",
       "      <td>6463.000000</td>\n",
       "      <td>6463.000000</td>\n",
       "      <td>6463.000000</td>\n",
       "      <td>6463.000000</td>\n",
       "    </tr>\n",
       "    <tr>\n",
       "      <th>mean</th>\n",
       "      <td>0.282459</td>\n",
       "      <td>0.173059</td>\n",
       "      <td>0.192023</td>\n",
       "      <td>0.074294</td>\n",
       "      <td>0.078166</td>\n",
       "      <td>0.102489</td>\n",
       "      <td>0.252752</td>\n",
       "      <td>0.146283</td>\n",
       "      <td>0.386304</td>\n",
       "      <td>0.174803</td>\n",
       "      <td>0.361279</td>\n",
       "      <td>0.246480</td>\n",
       "      <td>0.753520</td>\n",
       "    </tr>\n",
       "    <tr>\n",
       "      <th>std</th>\n",
       "      <td>0.107266</td>\n",
       "      <td>0.109759</td>\n",
       "      <td>0.087501</td>\n",
       "      <td>0.072958</td>\n",
       "      <td>0.058265</td>\n",
       "      <td>0.061663</td>\n",
       "      <td>0.130246</td>\n",
       "      <td>0.057865</td>\n",
       "      <td>0.124535</td>\n",
       "      <td>0.083659</td>\n",
       "      <td>0.172917</td>\n",
       "      <td>0.430995</td>\n",
       "      <td>0.430995</td>\n",
       "    </tr>\n",
       "    <tr>\n",
       "      <th>min</th>\n",
       "      <td>0.000000</td>\n",
       "      <td>0.000000</td>\n",
       "      <td>0.000000</td>\n",
       "      <td>0.000000</td>\n",
       "      <td>0.000000</td>\n",
       "      <td>0.000000</td>\n",
       "      <td>0.000000</td>\n",
       "      <td>0.000000</td>\n",
       "      <td>0.000000</td>\n",
       "      <td>0.000000</td>\n",
       "      <td>0.000000</td>\n",
       "      <td>0.000000</td>\n",
       "      <td>0.000000</td>\n",
       "    </tr>\n",
       "    <tr>\n",
       "      <th>25%</th>\n",
       "      <td>0.214876</td>\n",
       "      <td>0.100000</td>\n",
       "      <td>0.150602</td>\n",
       "      <td>0.018405</td>\n",
       "      <td>0.048173</td>\n",
       "      <td>0.055556</td>\n",
       "      <td>0.163594</td>\n",
       "      <td>0.100636</td>\n",
       "      <td>0.302326</td>\n",
       "      <td>0.117978</td>\n",
       "      <td>0.217391</td>\n",
       "      <td>0.000000</td>\n",
       "      <td>1.000000</td>\n",
       "    </tr>\n",
       "    <tr>\n",
       "      <th>50%</th>\n",
       "      <td>0.264463</td>\n",
       "      <td>0.140000</td>\n",
       "      <td>0.186747</td>\n",
       "      <td>0.036810</td>\n",
       "      <td>0.063123</td>\n",
       "      <td>0.097222</td>\n",
       "      <td>0.258065</td>\n",
       "      <td>0.149990</td>\n",
       "      <td>0.379845</td>\n",
       "      <td>0.162921</td>\n",
       "      <td>0.333333</td>\n",
       "      <td>0.000000</td>\n",
       "      <td>1.000000</td>\n",
       "    </tr>\n",
       "    <tr>\n",
       "      <th>75%</th>\n",
       "      <td>0.322314</td>\n",
       "      <td>0.213333</td>\n",
       "      <td>0.234940</td>\n",
       "      <td>0.115031</td>\n",
       "      <td>0.093023</td>\n",
       "      <td>0.138889</td>\n",
       "      <td>0.345622</td>\n",
       "      <td>0.190669</td>\n",
       "      <td>0.465116</td>\n",
       "      <td>0.213483</td>\n",
       "      <td>0.478261</td>\n",
       "      <td>0.000000</td>\n",
       "      <td>1.000000</td>\n",
       "    </tr>\n",
       "    <tr>\n",
       "      <th>max</th>\n",
       "      <td>1.000000</td>\n",
       "      <td>1.000000</td>\n",
       "      <td>1.000000</td>\n",
       "      <td>1.000000</td>\n",
       "      <td>1.000000</td>\n",
       "      <td>1.000000</td>\n",
       "      <td>1.000000</td>\n",
       "      <td>1.000000</td>\n",
       "      <td>1.000000</td>\n",
       "      <td>1.000000</td>\n",
       "      <td>1.000000</td>\n",
       "      <td>1.000000</td>\n",
       "      <td>1.000000</td>\n",
       "    </tr>\n",
       "  </tbody>\n",
       "</table>\n",
       "</div>\n",
       "      <button class=\"colab-df-convert\" onclick=\"convertToInteractive('df-4529d568-4c14-439b-bbdd-446653234ac1')\"\n",
       "              title=\"Convert this dataframe to an interactive table.\"\n",
       "              style=\"display:none;\">\n",
       "        \n",
       "  <svg xmlns=\"http://www.w3.org/2000/svg\" height=\"24px\"viewBox=\"0 0 24 24\"\n",
       "       width=\"24px\">\n",
       "    <path d=\"M0 0h24v24H0V0z\" fill=\"none\"/>\n",
       "    <path d=\"M18.56 5.44l.94 2.06.94-2.06 2.06-.94-2.06-.94-.94-2.06-.94 2.06-2.06.94zm-11 1L8.5 8.5l.94-2.06 2.06-.94-2.06-.94L8.5 2.5l-.94 2.06-2.06.94zm10 10l.94 2.06.94-2.06 2.06-.94-2.06-.94-.94-2.06-.94 2.06-2.06.94z\"/><path d=\"M17.41 7.96l-1.37-1.37c-.4-.4-.92-.59-1.43-.59-.52 0-1.04.2-1.43.59L10.3 9.45l-7.72 7.72c-.78.78-.78 2.05 0 2.83L4 21.41c.39.39.9.59 1.41.59.51 0 1.02-.2 1.41-.59l7.78-7.78 2.81-2.81c.8-.78.8-2.07 0-2.86zM5.41 20L4 18.59l7.72-7.72 1.47 1.35L5.41 20z\"/>\n",
       "  </svg>\n",
       "      </button>\n",
       "      \n",
       "  <style>\n",
       "    .colab-df-container {\n",
       "      display:flex;\n",
       "      flex-wrap:wrap;\n",
       "      gap: 12px;\n",
       "    }\n",
       "\n",
       "    .colab-df-convert {\n",
       "      background-color: #E8F0FE;\n",
       "      border: none;\n",
       "      border-radius: 50%;\n",
       "      cursor: pointer;\n",
       "      display: none;\n",
       "      fill: #1967D2;\n",
       "      height: 32px;\n",
       "      padding: 0 0 0 0;\n",
       "      width: 32px;\n",
       "    }\n",
       "\n",
       "    .colab-df-convert:hover {\n",
       "      background-color: #E2EBFA;\n",
       "      box-shadow: 0px 1px 2px rgba(60, 64, 67, 0.3), 0px 1px 3px 1px rgba(60, 64, 67, 0.15);\n",
       "      fill: #174EA6;\n",
       "    }\n",
       "\n",
       "    [theme=dark] .colab-df-convert {\n",
       "      background-color: #3B4455;\n",
       "      fill: #D2E3FC;\n",
       "    }\n",
       "\n",
       "    [theme=dark] .colab-df-convert:hover {\n",
       "      background-color: #434B5C;\n",
       "      box-shadow: 0px 1px 3px 1px rgba(0, 0, 0, 0.15);\n",
       "      filter: drop-shadow(0px 1px 2px rgba(0, 0, 0, 0.3));\n",
       "      fill: #FFFFFF;\n",
       "    }\n",
       "  </style>\n",
       "\n",
       "      <script>\n",
       "        const buttonEl =\n",
       "          document.querySelector('#df-4529d568-4c14-439b-bbdd-446653234ac1 button.colab-df-convert');\n",
       "        buttonEl.style.display =\n",
       "          google.colab.kernel.accessAllowed ? 'block' : 'none';\n",
       "\n",
       "        async function convertToInteractive(key) {\n",
       "          const element = document.querySelector('#df-4529d568-4c14-439b-bbdd-446653234ac1');\n",
       "          const dataTable =\n",
       "            await google.colab.kernel.invokeFunction('convertToInteractive',\n",
       "                                                     [key], {});\n",
       "          if (!dataTable) return;\n",
       "\n",
       "          const docLinkHtml = 'Like what you see? Visit the ' +\n",
       "            '<a target=\"_blank\" href=https://colab.research.google.com/notebooks/data_table.ipynb>data table notebook</a>'\n",
       "            + ' to learn more about interactive tables.';\n",
       "          element.innerHTML = '';\n",
       "          dataTable['output_type'] = 'display_data';\n",
       "          await google.colab.output.renderOutput(dataTable, element);\n",
       "          const docLink = document.createElement('div');\n",
       "          docLink.innerHTML = docLinkHtml;\n",
       "          element.appendChild(docLink);\n",
       "        }\n",
       "      </script>\n",
       "    </div>\n",
       "  </div>\n",
       "  "
      ],
      "text/plain": [
       "       fixed acidity  volatile acidity  citric acid  residual sugar  \\\n",
       "count    6463.000000       6463.000000  6463.000000     6463.000000   \n",
       "mean        0.282459          0.173059     0.192023        0.074294   \n",
       "std         0.107266          0.109759     0.087501        0.072958   \n",
       "min         0.000000          0.000000     0.000000        0.000000   \n",
       "25%         0.214876          0.100000     0.150602        0.018405   \n",
       "50%         0.264463          0.140000     0.186747        0.036810   \n",
       "75%         0.322314          0.213333     0.234940        0.115031   \n",
       "max         1.000000          1.000000     1.000000        1.000000   \n",
       "\n",
       "         chlorides  free sulfur dioxide  total sulfur dioxide      density  \\\n",
       "count  6463.000000          6463.000000           6463.000000  6463.000000   \n",
       "mean      0.078166             0.102489              0.252752     0.146283   \n",
       "std       0.058265             0.061663              0.130246     0.057865   \n",
       "min       0.000000             0.000000              0.000000     0.000000   \n",
       "25%       0.048173             0.055556              0.163594     0.100636   \n",
       "50%       0.063123             0.097222              0.258065     0.149990   \n",
       "75%       0.093023             0.138889              0.345622     0.190669   \n",
       "max       1.000000             1.000000              1.000000     1.000000   \n",
       "\n",
       "                pH    sulphates      alcohol     type_red   type_white  \n",
       "count  6463.000000  6463.000000  6463.000000  6463.000000  6463.000000  \n",
       "mean      0.386304     0.174803     0.361279     0.246480     0.753520  \n",
       "std       0.124535     0.083659     0.172917     0.430995     0.430995  \n",
       "min       0.000000     0.000000     0.000000     0.000000     0.000000  \n",
       "25%       0.302326     0.117978     0.217391     0.000000     1.000000  \n",
       "50%       0.379845     0.162921     0.333333     0.000000     1.000000  \n",
       "75%       0.465116     0.213483     0.478261     0.000000     1.000000  \n",
       "max       1.000000     1.000000     1.000000     1.000000     1.000000  "
      ]
     },
     "execution_count": 50,
     "metadata": {},
     "output_type": "execute_result"
    }
   ],
   "source": [
    "X_norm.describe()"
   ]
  },
  {
   "cell_type": "code",
   "execution_count": null,
   "metadata": {
    "id": "F2zR1-ZoOx-L"
   },
   "outputs": [],
   "source": []
  },
  {
   "cell_type": "markdown",
   "metadata": {
    "id": "9OVB0QPQPGUK"
   },
   "source": [
    "# Split"
   ]
  },
  {
   "cell_type": "code",
   "execution_count": 58,
   "metadata": {
    "colab": {
     "base_uri": "https://localhost:8080/"
    },
    "id": "hHP6Qt2IPHiy",
    "outputId": "3f9080bd-74e3-410a-9f79-690d2615c1d3"
   },
   "outputs": [
    {
     "name": "stdout",
     "output_type": "stream",
     "text": [
      "6463\n",
      "5493\n",
      "970\n"
     ]
    }
   ],
   "source": [
    "X_norm = X_norm.to_numpy()\n",
    "y = y.to_numpy()\n",
    "n = X_norm.shape[0]\n",
    "print(n)\n",
    "idx = np.random.permutation(np.arange(0, n))\n",
    "train_idx = idx[0:int(0.85 * n)]\n",
    "valid_idx = idx[int(0.85 * n):]\n",
    "print(len(train_idx))\n",
    "print(len(valid_idx))\n",
    "\n",
    "# train -> entrenar tu modelo (80%)\n",
    "# valid -> encontrar los HPs (10%)\n",
    "# test -> calcular las metricas finales (10%)"
   ]
  },
  {
   "cell_type": "code",
   "execution_count": 59,
   "metadata": {
    "colab": {
     "base_uri": "https://localhost:8080/"
    },
    "id": "AfhwVo_XPLuz",
    "outputId": "e2e73658-6a1c-428c-91eb-86e7ef8f85de"
   },
   "outputs": [
    {
     "name": "stdout",
     "output_type": "stream",
     "text": [
      "(5493, 13)\n",
      "(5493,)\n",
      "(970, 13)\n",
      "(970,)\n"
     ]
    }
   ],
   "source": [
    "X_train = X_norm[train_idx,:]\n",
    "y_train = y[train_idx]\n",
    "X_valid = X_norm[valid_idx,:]\n",
    "y_valid = y[valid_idx]\n",
    "\n",
    "print(X_train.shape)\n",
    "print(y_train.shape)\n",
    "print(X_valid.shape)\n",
    "print(y_valid.shape)"
   ]
  },
  {
   "cell_type": "code",
   "execution_count": null,
   "metadata": {
    "id": "ai4u0en5PVE7"
   },
   "outputs": [],
   "source": []
  },
  {
   "cell_type": "markdown",
   "metadata": {
    "id": "29g8DEnCRC8o"
   },
   "source": [
    "# NNet sin embeddings"
   ]
  },
  {
   "cell_type": "code",
   "execution_count": 76,
   "metadata": {
    "id": "ew8ngMTnREbx"
   },
   "outputs": [],
   "source": [
    "import torch\n",
    "from torch.utils.data import Dataset, DataLoader\n",
    "from sklearn import metrics"
   ]
  },
  {
   "cell_type": "code",
   "execution_count": 61,
   "metadata": {
    "id": "QOKrevWwRMui"
   },
   "outputs": [],
   "source": [
    "class MyDataset(Dataset):\n",
    "\n",
    "    def __init__(self, X, y):\n",
    "        super().__init__()\n",
    "        self.X = X\n",
    "        self.y = y\n",
    "\n",
    "    def __len__(self):\n",
    "        return self.X.shape[0]\n",
    "\n",
    "    def __getitem__(self, idx):\n",
    "        return self.X[idx], self.y[idx]"
   ]
  },
  {
   "cell_type": "code",
   "execution_count": 62,
   "metadata": {
    "id": "IfylgH5FRtBF"
   },
   "outputs": [],
   "source": [
    "train = MyDataset(X_train, y_train)"
   ]
  },
  {
   "cell_type": "code",
   "execution_count": 63,
   "metadata": {
    "colab": {
     "base_uri": "https://localhost:8080/"
    },
    "id": "xwotH3TkSOfv",
    "outputId": "2454e679-6654-45bd-d8b7-7bdffbdfd811"
   },
   "outputs": [
    {
     "data": {
      "text/plain": [
       "5493"
      ]
     },
     "execution_count": 63,
     "metadata": {},
     "output_type": "execute_result"
    }
   ],
   "source": [
    "len(train)"
   ]
  },
  {
   "cell_type": "code",
   "execution_count": 64,
   "metadata": {
    "id": "Ch3k54ntSROu"
   },
   "outputs": [],
   "source": [
    "X0, y0 = train[0]"
   ]
  },
  {
   "cell_type": "code",
   "execution_count": 65,
   "metadata": {
    "colab": {
     "base_uri": "https://localhost:8080/"
    },
    "id": "XkxbziOhScFv",
    "outputId": "23d3f349-a79b-42d0-e98f-628025bad647"
   },
   "outputs": [
    {
     "data": {
      "text/plain": [
       "(13,)"
      ]
     },
     "execution_count": 65,
     "metadata": {},
     "output_type": "execute_result"
    }
   ],
   "source": [
    "X0.shape"
   ]
  },
  {
   "cell_type": "code",
   "execution_count": 66,
   "metadata": {
    "colab": {
     "base_uri": "https://localhost:8080/"
    },
    "id": "1V-3f7QKSgag",
    "outputId": "544442f1-c147-4cfa-82f4-a008f16f54a8"
   },
   "outputs": [
    {
     "data": {
      "text/plain": [
       "(5493, 13)"
      ]
     },
     "execution_count": 66,
     "metadata": {},
     "output_type": "execute_result"
    }
   ],
   "source": [
    "X_train.shape"
   ]
  },
  {
   "cell_type": "code",
   "execution_count": 68,
   "metadata": {
    "colab": {
     "base_uri": "https://localhost:8080/"
    },
    "id": "iB5NNBRRSi5g",
    "outputId": "2459cb11-432d-4243-d2be-e1a9cc796a63"
   },
   "outputs": [
    {
     "data": {
      "text/plain": [
       "0"
      ]
     },
     "execution_count": 68,
     "metadata": {},
     "output_type": "execute_result"
    }
   ],
   "source": [
    "y0"
   ]
  },
  {
   "cell_type": "code",
   "execution_count": 69,
   "metadata": {
    "id": "ssMZMDJRSn0h"
   },
   "outputs": [],
   "source": [
    "valid = MyDataset(X_valid, y_valid)"
   ]
  },
  {
   "cell_type": "code",
   "execution_count": 70,
   "metadata": {
    "colab": {
     "base_uri": "https://localhost:8080/"
    },
    "id": "9XxU-vPzSs3R",
    "outputId": "9d24539a-baa9-404a-bd34-eb6991e406c6"
   },
   "outputs": [
    {
     "data": {
      "text/plain": [
       "970"
      ]
     },
     "execution_count": 70,
     "metadata": {},
     "output_type": "execute_result"
    }
   ],
   "source": [
    "len(valid)"
   ]
  },
  {
   "cell_type": "code",
   "execution_count": 71,
   "metadata": {
    "colab": {
     "base_uri": "https://localhost:8080/"
    },
    "id": "KlCqxEeFSt8S",
    "outputId": "b887e87f-b7e2-41e2-8ea7-da16b127816d"
   },
   "outputs": [
    {
     "name": "stdout",
     "output_type": "stream",
     "text": [
      "[0.41322314 0.16666667 0.21686747 0.02300613 0.04152824 0.0625\n",
      " 0.27419355 0.0877193  0.18604651 0.42696629 0.68115942 0.\n",
      " 1.        ]\n"
     ]
    }
   ],
   "source": [
    "print(X0)"
   ]
  },
  {
   "cell_type": "code",
   "execution_count": 79,
   "metadata": {
    "id": "K4ByVtwgSxEa"
   },
   "outputs": [],
   "source": [
    "train_dataloader = DataLoader(train, batch_size=64, shuffle=True)\n",
    "valid_dataloader = DataLoader(valid, batch_size=64, shuffle=True)"
   ]
  },
  {
   "cell_type": "code",
   "execution_count": 80,
   "metadata": {
    "id": "321dr8dCT4wz"
   },
   "outputs": [],
   "source": [
    "batch_1 = next(iter(train_dataloader))"
   ]
  },
  {
   "cell_type": "code",
   "execution_count": 81,
   "metadata": {
    "colab": {
     "base_uri": "https://localhost:8080/"
    },
    "id": "bOU8Nm17UNhN",
    "outputId": "80a9e3df-4a01-46b3-87c1-6a3bb8cdb901"
   },
   "outputs": [
    {
     "data": {
      "text/plain": [
       "list"
      ]
     },
     "execution_count": 81,
     "metadata": {},
     "output_type": "execute_result"
    }
   ],
   "source": [
    "type(batch_1)"
   ]
  },
  {
   "cell_type": "code",
   "execution_count": 82,
   "metadata": {
    "colab": {
     "base_uri": "https://localhost:8080/"
    },
    "id": "z-YMYZirUTwO",
    "outputId": "f4cb01a4-34a1-4383-be20-efd44ede06c2"
   },
   "outputs": [
    {
     "data": {
      "text/plain": [
       "2"
      ]
     },
     "execution_count": 82,
     "metadata": {},
     "output_type": "execute_result"
    }
   ],
   "source": [
    "len(batch_1)"
   ]
  },
  {
   "cell_type": "code",
   "execution_count": 84,
   "metadata": {
    "colab": {
     "base_uri": "https://localhost:8080/"
    },
    "id": "6jrte7jCUV6O",
    "outputId": "08cbd988-18c7-42ba-a172-706392bea286"
   },
   "outputs": [
    {
     "data": {
      "text/plain": [
       "torch.Tensor"
      ]
     },
     "execution_count": 84,
     "metadata": {},
     "output_type": "execute_result"
    }
   ],
   "source": [
    "type(batch_1[0])"
   ]
  },
  {
   "cell_type": "code",
   "execution_count": 85,
   "metadata": {
    "colab": {
     "base_uri": "https://localhost:8080/"
    },
    "id": "w5rWRYS0UbJJ",
    "outputId": "0f008dc3-eece-47ad-f500-195a6a66544e"
   },
   "outputs": [
    {
     "name": "stdout",
     "output_type": "stream",
     "text": [
      "torch.Size([64, 13])\n"
     ]
    }
   ],
   "source": [
    "print(batch_1[0].shape) # -> 64 filas de X_train (dataset de entrenamiento)"
   ]
  },
  {
   "cell_type": "code",
   "execution_count": 86,
   "metadata": {
    "colab": {
     "base_uri": "https://localhost:8080/"
    },
    "id": "ptE4qNlTUmA4",
    "outputId": "987e66e2-c6f3-4c42-d1c7-469e171a37aa"
   },
   "outputs": [
    {
     "name": "stdout",
     "output_type": "stream",
     "text": [
      "torch.Size([64])\n"
     ]
    }
   ],
   "source": [
    "print(batch_1[1].shape) # -> 64 filas de y_train (label)"
   ]
  },
  {
   "cell_type": "code",
   "execution_count": 130,
   "metadata": {
    "id": "JsX0C6U8UrXE"
   },
   "outputs": [],
   "source": [
    "class NNet(torch.nn.Module):\n",
    "\n",
    "    def __init__(self):\n",
    "        super().__init__()\n",
    "        self.linear_1 = torch.nn.Linear(in_features=13, out_features=100, bias=True)\n",
    "        self.relu_1 = torch.nn.ReLU()\n",
    "        self.linear_2 = torch.nn.Linear(in_features=100, out_features=50, bias=True)\n",
    "        self.relu_2 = torch.nn.ReLU()\n",
    "        self.output = torch.nn.Linear(in_features=50, out_features=1, bias=True)\n",
    "\n",
    "    def forward(self, x): # x.shape -> 64 x 13\n",
    "        x = self.linear_1(x) # x.shape -> 64 x 100 \n",
    "        #print(x.shape)\n",
    "        x = self.relu_1(x) # x.shape -> 64 x 100\n",
    "        #print(x.shape)\n",
    "        x = self.linear_2(x) # x.shape -> 64 x 50\n",
    "        #print(x.shape)\n",
    "        x = self.relu_2(x) # x.shape -> 64 x 50\n",
    "        #print(x.shape)\n",
    "        x = self.output(x) # x.shape -> 64 x 1\n",
    "        return x"
   ]
  },
  {
   "cell_type": "code",
   "execution_count": 138,
   "metadata": {
    "id": "kYb1Xz-dWGuF"
   },
   "outputs": [],
   "source": [
    "nnet = NNet()"
   ]
  },
  {
   "cell_type": "code",
   "execution_count": 139,
   "metadata": {
    "colab": {
     "base_uri": "https://localhost:8080/"
    },
    "id": "-wHF-eCeaAvC",
    "outputId": "f8057851-2fca-4b32-dc87-6fb06180d2c3"
   },
   "outputs": [
    {
     "name": "stdout",
     "output_type": "stream",
     "text": [
      "<class 'torch.Tensor'>\n",
      "torch.Size([64, 13])\n",
      "torch.Size([64, 1])\n"
     ]
    }
   ],
   "source": [
    "x_batch = next(iter(train_dataloader))[0]\n",
    "print(type(x_batch))\n",
    "x_batch = x_batch.float()\n",
    "y_batch = nnet(x_batch)\n",
    "print(x_batch.shape)\n",
    "print(y_batch.shape)"
   ]
  },
  {
   "cell_type": "code",
   "execution_count": 140,
   "metadata": {
    "id": "ti73yFR5ajxN"
   },
   "outputs": [],
   "source": [
    "optimizer = torch.optim.Adam(nnet.parameters(), lr=0.001)\n",
    "loss_function = torch.nn.BCEWithLogitsLoss(reduction=\"sum\")"
   ]
  },
  {
   "cell_type": "code",
   "execution_count": 141,
   "metadata": {
    "colab": {
     "base_uri": "https://localhost:8080/"
    },
    "id": "VpqrLBLYb1Bo",
    "outputId": "02c1052d-b1a5-4634-b43f-1daf7cccdea4"
   },
   "outputs": [
    {
     "name": "stdout",
     "output_type": "stream",
     "text": [
      "cpu\n"
     ]
    }
   ],
   "source": [
    "device = \"\"\n",
    "if torch.cuda.is_available():\n",
    "    device = \"cuda:0\"\n",
    "else:\n",
    "    device = \"cpu\"\n",
    "\n",
    "print(device)"
   ]
  },
  {
   "cell_type": "code",
   "execution_count": 142,
   "metadata": {
    "colab": {
     "base_uri": "https://localhost:8080/"
    },
    "id": "u0RP_kJ_cCMv",
    "outputId": "9be7f763-118e-4171-aae4-ffbe7769a43c"
   },
   "outputs": [
    {
     "name": "stdout",
     "output_type": "stream",
     "text": [
      "Epoch 0 | Training loss: 2959.419912338257 | AUC: 0.5381990079814689\n",
      "Epoch 1 | Training loss: 2500.6597785949707 | AUC: 0.7284672390496094\n",
      "Epoch 2 | Training loss: 2322.872573852539 | AUC: 0.7741452023063172\n",
      "Epoch 3 | Training loss: 2237.1986598968506 | AUC: 0.7895038648437697\n",
      "Epoch 4 | Training loss: 2198.373571395874 | AUC: 0.7995736502421297\n",
      "Epoch 5 | Training loss: 2175.73974609375 | AUC: 0.8042593012228181\n",
      "Epoch 6 | Training loss: 2159.0552587509155 | AUC: 0.8079876585173434\n",
      "Epoch 7 | Training loss: 2144.6714067459106 | AUC: 0.812184538946379\n",
      "Epoch 8 | Training loss: 2136.175919532776 | AUC: 0.8133763040175912\n",
      "Epoch 9 | Training loss: 2137.662944793701 | AUC: 0.8131685844013059\n",
      "Epoch 10 | Training loss: 2126.283037185669 | AUC: 0.8156253409539156\n",
      "Epoch 11 | Training loss: 2118.708257675171 | AUC: 0.8174266267173587\n",
      "Epoch 12 | Training loss: 2120.376196861267 | AUC: 0.8171001502295407\n",
      "Epoch 13 | Training loss: 2107.5257453918457 | AUC: 0.8196301331923358\n",
      "Epoch 14 | Training loss: 2113.511625289917 | AUC: 0.8178813018774496\n",
      "Epoch 15 | Training loss: 2110.7175340652466 | AUC: 0.8188063885321986\n",
      "Epoch 16 | Training loss: 2095.304970741272 | AUC: 0.8224815570158874\n",
      "Epoch 17 | Training loss: 2089.5382690429688 | AUC: 0.8241017700229121\n",
      "Epoch 18 | Training loss: 2084.3473892211914 | AUC: 0.8245193074334247\n",
      "Epoch 19 | Training loss: 2078.2295446395874 | AUC: 0.8263296153620197\n",
      "Epoch 20 | Training loss: 2068.4931716918945 | AUC: 0.828892959354097\n",
      "Epoch 21 | Training loss: 2071.4261751174927 | AUC: 0.8278233082391252\n",
      "Epoch 22 | Training loss: 2063.7908096313477 | AUC: 0.8294973395103691\n",
      "Epoch 23 | Training loss: 2056.4279022216797 | AUC: 0.8312920160132939\n",
      "Epoch 24 | Training loss: 2053.0003509521484 | AUC: 0.8322402875343052\n",
      "Epoch 25 | Training loss: 2055.789891242981 | AUC: 0.8315420139151161\n",
      "Epoch 26 | Training loss: 2042.5230464935303 | AUC: 0.8339617376270447\n",
      "Epoch 27 | Training loss: 2039.3726615905762 | AUC: 0.8345127191546862\n",
      "Epoch 28 | Training loss: 2033.7079238891602 | AUC: 0.8362938624098832\n",
      "Epoch 29 | Training loss: 2024.6841297149658 | AUC: 0.8380152075937256\n",
      "Epoch 30 | Training loss: 2023.111047744751 | AUC: 0.8381799145621942\n",
      "Epoch 31 | Training loss: 2012.8423805236816 | AUC: 0.8405751945010954\n",
      "Epoch 32 | Training loss: 2014.12135887146 | AUC: 0.8407130447919028\n",
      "Epoch 33 | Training loss: 1999.604910850525 | AUC: 0.8438230690468397\n",
      "Epoch 34 | Training loss: 1991.811809539795 | AUC: 0.8458420407717937\n",
      "Epoch 35 | Training loss: 1985.8212423324585 | AUC: 0.8470216364109407\n",
      "Epoch 36 | Training loss: 1971.9673891067505 | AUC: 0.8497266074141214\n",
      "Epoch 37 | Training loss: 1960.5457963943481 | AUC: 0.8521753908905507\n",
      "Epoch 38 | Training loss: 1976.0706586837769 | AUC: 0.8485295968980539\n",
      "Epoch 39 | Training loss: 1953.5059270858765 | AUC: 0.8532504972681723\n",
      "Epoch 40 | Training loss: 1954.9872436523438 | AUC: 0.8525155055349933\n",
      "Epoch 41 | Training loss: 1944.8643341064453 | AUC: 0.8554728873446299\n",
      "Epoch 42 | Training loss: 1938.8230991363525 | AUC: 0.8561808125823533\n",
      "Epoch 43 | Training loss: 1939.7309350967407 | AUC: 0.8557122894478434\n",
      "Epoch 44 | Training loss: 1926.7907419204712 | AUC: 0.858347810761135\n",
      "Epoch 45 | Training loss: 1919.6387701034546 | AUC: 0.8596940017288986\n",
      "Epoch 46 | Training loss: 1923.2277698516846 | AUC: 0.8585727354365469\n",
      "Epoch 47 | Training loss: 1911.1226749420166 | AUC: 0.861365620095509\n",
      "Epoch 48 | Training loss: 1926.7986459732056 | AUC: 0.8578249448179202\n",
      "Epoch 49 | Training loss: 1917.3602313995361 | AUC: 0.8599197656754874\n",
      "Epoch 50 | Training loss: 1898.431939125061 | AUC: 0.8627025790803267\n",
      "Epoch 51 | Training loss: 1901.1786623001099 | AUC: 0.8626358570217624\n",
      "Epoch 52 | Training loss: 1904.1194334030151 | AUC: 0.8620852951297093\n",
      "Epoch 53 | Training loss: 1894.973871231079 | AUC: 0.8635949341591761\n",
      "Epoch 54 | Training loss: 1888.799243927002 | AUC: 0.8647499811163986\n",
      "Epoch 55 | Training loss: 1889.6552562713623 | AUC: 0.8647474633028677\n",
      "Epoch 56 | Training loss: 1878.2256813049316 | AUC: 0.866855083045883\n",
      "Epoch 57 | Training loss: 1881.1367835998535 | AUC: 0.8661656217740513\n",
      "Epoch 58 | Training loss: 1890.553147315979 | AUC: 0.8643150288289648\n",
      "Epoch 59 | Training loss: 1881.1811246871948 | AUC: 0.8660607128769378\n",
      "Epoch 60 | Training loss: 1868.1063480377197 | AUC: 0.8683496151941654\n",
      "Epoch 61 | Training loss: 1866.3336610794067 | AUC: 0.8683810878632995\n",
      "Epoch 62 | Training loss: 1862.842617034912 | AUC: 0.869385066008678\n",
      "Epoch 63 | Training loss: 1883.3504829406738 | AUC: 0.8659505585349682\n",
      "Epoch 64 | Training loss: 1878.969241142273 | AUC: 0.8671217614623461\n",
      "Epoch 65 | Training loss: 1853.840841293335 | AUC: 0.8705793488934209\n",
      "Epoch 66 | Training loss: 1864.2560319900513 | AUC: 0.8688288390361809\n",
      "Epoch 67 | Training loss: 1853.327359199524 | AUC: 0.8707843408783813\n",
      "Epoch 68 | Training loss: 1862.1973209381104 | AUC: 0.8691641278713566\n",
      "Epoch 69 | Training loss: 1852.6619834899902 | AUC: 0.87138085286737\n",
      "Epoch 70 | Training loss: 1853.1080293655396 | AUC: 0.8708468665810609\n",
      "Epoch 71 | Training loss: 1851.0951595306396 | AUC: 0.8709903819523126\n",
      "Epoch 72 | Training loss: 1848.9675741195679 | AUC: 0.8716192058816123\n",
      "Epoch 73 | Training loss: 1845.8716268539429 | AUC: 0.8723214660388917\n",
      "Epoch 74 | Training loss: 1858.144630432129 | AUC: 0.8696330706414549\n",
      "Epoch 75 | Training loss: 1848.7416944503784 | AUC: 0.8716043088182223\n",
      "Epoch 76 | Training loss: 1844.1093864440918 | AUC: 0.8721349380198236\n",
      "Epoch 77 | Training loss: 1836.0520858764648 | AUC: 0.8738027796661378\n",
      "Epoch 78 | Training loss: 1833.940055847168 | AUC: 0.8738611090129331\n",
      "Epoch 79 | Training loss: 1840.5686655044556 | AUC: 0.8726454247131792\n",
      "Epoch 80 | Training loss: 1831.5037288665771 | AUC: 0.8742117145470873\n",
      "Epoch 81 | Training loss: 1844.8233032226562 | AUC: 0.8722820202935772\n",
      "Epoch 82 | Training loss: 1834.4479818344116 | AUC: 0.8738564930214602\n",
      "Epoch 83 | Training loss: 1834.8674049377441 | AUC: 0.8733567070356103\n",
      "Epoch 84 | Training loss: 1831.262318611145 | AUC: 0.8740648420911281\n",
      "Epoch 85 | Training loss: 1821.061279296875 | AUC: 0.87598320618375\n",
      "Epoch 86 | Training loss: 1840.0449838638306 | AUC: 0.8726678752171614\n",
      "Epoch 87 | Training loss: 1821.9248495101929 | AUC: 0.8759324302775469\n",
      "Epoch 88 | Training loss: 1838.655918121338 | AUC: 0.8728053058723804\n",
      "Epoch 89 | Training loss: 1822.840986251831 | AUC: 0.8756334399207728\n",
      "Epoch 90 | Training loss: 1827.5123929977417 | AUC: 0.8750050356270616\n",
      "Epoch 91 | Training loss: 1826.4922428131104 | AUC: 0.8754716704014234\n",
      "Epoch 92 | Training loss: 1826.4916982650757 | AUC: 0.8752931154585359\n",
      "Epoch 93 | Training loss: 1809.5143480300903 | AUC: 0.8774682965312922\n",
      "Epoch 94 | Training loss: 1841.4455423355103 | AUC: 0.8722134098748646\n",
      "Epoch 95 | Training loss: 1822.6949157714844 | AUC: 0.8755788872942736\n",
      "Epoch 96 | Training loss: 1817.9082126617432 | AUC: 0.8757639465887823\n",
      "Epoch 97 | Training loss: 1815.9220628738403 | AUC: 0.8763688512895402\n",
      "Epoch 98 | Training loss: 1809.931209564209 | AUC: 0.8776476907453568\n",
      "Epoch 99 | Training loss: 1801.091736793518 | AUC: 0.878936391637502\n"
     ]
    }
   ],
   "source": [
    "nnet.to(device)\n",
    "\n",
    "loss_list = []\n",
    "train_auc = []\n",
    "for epoch in range(100):\n",
    "\n",
    "    running_loss = 0\n",
    "    running_y_score = []\n",
    "    running_y_label = []\n",
    "    for i, data in enumerate(train_dataloader):\n",
    "\n",
    "        # datos del batch\n",
    "        X_batch, y_batch = data \n",
    "        X_batch = X_batch.to(device).float()\n",
    "        Y_batch = y_batch.to(device).float()\n",
    "\n",
    "        # forward\n",
    "        optimizer.zero_grad()\n",
    "        y_batch_score = nnet(X_batch).reshape(-1)\n",
    "        y_batch_hat = torch.sigmoid(y_batch_score).reshape(-1)\n",
    "\n",
    "        # backpropagation\n",
    "        loss = loss_function(y_batch_score, Y_batch) # calcula el loss\n",
    "        loss.backward() # hacer los gradientes del loss\n",
    "\n",
    "        # actualización de parametros\n",
    "        optimizer.step() \n",
    "\n",
    "        running_loss += loss.item()\n",
    "        running_y_score += list(y_batch_score.detach().cpu().numpy())  \n",
    "        running_y_label += list(Y_batch.detach().cpu().numpy()) \n",
    "\n",
    "    # metrics\n",
    "    loss_list.append(running_loss)\n",
    "    fpt, tpr, _ = metrics.roc_curve(running_y_label, running_y_score)\n",
    "    auc = metrics.auc(fpt, tpr)\n",
    "    train_auc.append(auc)\n",
    "    print(f\"Epoch {epoch} | Training loss: {running_loss} | AUC: {auc}\")\n"
   ]
  },
  {
   "cell_type": "code",
   "execution_count": 137,
   "metadata": {
    "colab": {
     "base_uri": "https://localhost:8080/",
     "height": 282
    },
    "id": "ff9GZZj4e6PE",
    "outputId": "58c03217-06d9-4006-f9e1-e1d830690f01"
   },
   "outputs": [
    {
     "data": {
      "text/plain": [
       "[<matplotlib.lines.Line2D at 0x7fe1e2ecb550>]"
      ]
     },
     "execution_count": 137,
     "metadata": {},
     "output_type": "execute_result"
    },
    {
     "data": {
      "image/png": "[encoded data removed]",
      "text/plain": [
       "<Figure size 432x288 with 1 Axes>"
      ]
     },
     "metadata": {
      "needs_background": "light"
     },
     "output_type": "display_data"
    }
   ],
   "source": [
    "fig, ax1 = plt.subplots(1,1)\n",
    "x = range(0, len(train_auc))\n",
    "ax1.plot(x, train_auc)"
   ]
  },
  {
   "cell_type": "code",
   "execution_count": null,
   "metadata": {
    "id": "cIlMh71Xf6Vb"
   },
   "outputs": [],
   "source": []
  }
 ],
 "metadata": {
  "colab": {
   "name": "DL - S5 - C3.ipynb",
   "provenance": []
  },
  "kernelspec": {
   "display_name": "Python 3 (ipykernel)",
   "language": "python",
   "name": "python3"
  },
  "language_info": {
   "codemirror_mode": {
    "name": "ipython",
    "version": 3
   },
   "file_extension": ".py",
   "mimetype": "text/x-python",
   "name": "python",
   "nbconvert_exporter": "python",
   "pygments_lexer": "ipython3",
   "version": "3.10.4"
  }
 },
 "nbformat": 4,
 "nbformat_minor": 1
}
