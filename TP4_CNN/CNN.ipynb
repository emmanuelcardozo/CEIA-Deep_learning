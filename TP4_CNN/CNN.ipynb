{
 "cells": [
  {
   "cell_type": "markdown",
   "metadata": {
    "id": "N9_1a5iymIvC"
   },
   "source": [
    "   <img src=\"..\\TP4_CNN\\img\\img.png\" width=\"500\" align=\"right\">\n",
    "\n",
    "# Deep Learning\n",
    "\n",
    "### Alumno: Emmanuel Cardozo"
   ]
  },
  {
   "cell_type": "markdown",
   "metadata": {},
   "source": [
    "## 8. EJERCICIO\n",
    "\n",
    "Vamos a armar una pequeña competición en el curso.\n",
    "El objetivo es armar una arquitectura de CNN que identifique el dataset MNIST.\n",
    "Se van a usar capas de convolución, de activación y de pooling a elección. Cada alumno eligirá su modelo y los respectivos hiperparámetros, lo entrenará y presentará los siguientes resultados:\n",
    "\n",
    "*   `test_acc` (del test final)\n",
    "*   `n_parameter`\n",
    "*   `n_layers` (conv + activacion + pooling = 1 capa)\n",
    "*   `n_epochs` de entrenamiento usadas.\n",
    "\n",
    "\n",
    "El modelo se deberá ajustar a los siguientes parámetros:\n",
    "\n",
    "*   train: 80%, validation: 10%, test: 10% (los datos serán dados así todos usan el mismo set para cada grupo. Están en el github el curso).\n",
    "*   capa final de salida será una softmax de 10 elementos.\n",
    "*   loss_function será `CrossEntropyLoss`.\n",
    "\n",
    "El ganador de la competencia será aquel que consiga el mayor `score` empleando la siguietne fórmula:\n",
    "\n",
    "$$ score = \\frac{1}{log_{10}(n\\_parameter)} * \\frac{10}{n\\_epochs}*test\\_acc*n\\_layers$$\n",
    "\n",
    "Deberan presentar su código colab funcionando y el score alcanzado (con los valores de cada variable que compone el score).\n",
    "\n",
    "Es una competencia fairplay y con fines didácticos, esta formula del ```score``` fué inventada.... no usar como referencia para definir qué modelo utilizar.\n",
    "\n",
    "\n",
    "\n",
    "\n",
    "\n"
   ]
  },
  {
   "cell_type": "markdown",
   "metadata": {
    "id": "_wIQ8hjDpdVi"
   },
   "source": [
    "#### Importar lo necesario"
   ]
  },
  {
   "cell_type": "code",
   "execution_count": 1,
   "metadata": {
    "id": "uHQUjDs12DLW"
   },
   "outputs": [],
   "source": [
    "# %load_ext lab_black\n",
    "\n",
    "import math\n",
    "import matplotlib.pyplot as plt\n",
    "import numpy as np\n",
    "import os\n",
    "import torch\n",
    "import torch.nn as nn\n",
    "import torch.optim as optim\n",
    "from torch.utils.data import DataLoader, Dataset\n",
    "from torchsummary import summary\n",
    "from tqdm import tqdm"
   ]
  },
  {
   "cell_type": "markdown",
   "metadata": {
    "id": "QeJy8fjPn4wi"
   },
   "source": [
    "#### configuramos el `device` acorde al device disponible\n",
    "\n",
    "\n"
   ]
  },
  {
   "cell_type": "code",
   "execution_count": 2,
   "metadata": {
    "id": "lOV9xybtn4I3"
   },
   "outputs": [],
   "source": [
    "device = \"cuda\" if torch.cuda.is_available() else \"cpu\""
   ]
  },
  {
   "cell_type": "markdown",
   "metadata": {
    "id": "1nQ-MLk6Do8e"
   },
   "source": [
    "1. Cargar base de datos"
   ]
  },
  {
   "cell_type": "code",
   "execution_count": 3,
   "metadata": {},
   "outputs": [],
   "source": [
    "basepath = \"/tf/notebooks/CEIA-deep_learning/clase_5/data\"\n",
    "\n",
    "\n",
    "class CustomDataset(Dataset):\n",
    "    def __init__(self, data, labels):\n",
    "        self.data = data\n",
    "        self.labels = labels\n",
    "\n",
    "    def __len__(self):\n",
    "        return len(self.data)\n",
    "\n",
    "    def __getitem__(self, idx):\n",
    "        return self.data[idx], self.labels[idx]\n",
    "\n",
    "\n",
    "def custom_dataloader(data_file, label_file, batch_size=512):\n",
    "    data = np.load(os.path.join(basepath, data_file), allow_pickle=True)\n",
    "    data = np.expand_dims(data, axis=1)\n",
    "    labels = np.load(os.path.join(basepath, label_file), allow_pickle=True)\n",
    "    dataset = CustomDataset(data, labels)\n",
    "    return DataLoader(dataset, batch_size=batch_size, shuffle=True)\n",
    "\n",
    "\n",
    "dataloader = {\n",
    "    \"train\": custom_dataloader(\"train.pkl\", \"train_label.pkl\"),\n",
    "    \"val\": custom_dataloader(\"val.pkl\", \"val_label.pkl\"),\n",
    "    \"test\": custom_dataloader(\"test.pkl\", \"test_label.pkl\"),\n",
    "}"
   ]
  },
  {
   "cell_type": "markdown",
   "metadata": {
    "id": "oikthAE4Dteb"
   },
   "source": [
    "2. Ver que la base de datos esté OK"
   ]
  },
  {
   "cell_type": "code",
   "execution_count": 4,
   "metadata": {
    "colab": {
     "base_uri": "https://localhost:8080/"
    },
    "id": "cyq2UFIl-Qjy",
    "outputId": "ed7a0a94-d5e7-4ae4-b111-118f9805fae3"
   },
   "outputs": [
    {
     "name": "stdout",
     "output_type": "stream",
     "text": [
      "<class 'dict'>\n",
      "<class 'torch.utils.data.dataloader.DataLoader'>\n"
     ]
    }
   ],
   "source": [
    "print(type(dataloader))\n",
    "print(type(dataloader[\"train\"]))"
   ]
  },
  {
   "cell_type": "code",
   "execution_count": 5,
   "metadata": {
    "colab": {
     "base_uri": "https://localhost:8080/",
     "height": 354
    },
    "id": "p2fs6Qdivs1H",
    "outputId": "6cfc7823-33d2-4c0d-b0e5-907d4727d227"
   },
   "outputs": [
    {
     "name": "stdout",
     "output_type": "stream",
     "text": [
      "Feature batch shape: torch.Size([512, 1, 28, 28])\n",
      "Labels batch shape: torch.Size([512])\n",
      "tamaño de 1 imagen:  torch.Size([1, 28, 28])\n",
      "tamaño 1 imagen DESPUES de squeeze:  torch.Size([28, 28])\n"
     ]
    },
    {
     "data": {
      "image/png": "[encoded data removed]",
      "text/plain": [
       "<Figure size 432x288 with 1 Axes>"
      ]
     },
     "metadata": {
      "needs_background": "light"
     },
     "output_type": "display_data"
    },
    {
     "name": "stdout",
     "output_type": "stream",
     "text": [
      "Label: 0\n"
     ]
    }
   ],
   "source": [
    "# Display image and label from dataloader (dataloader -> una herramienta para hacer batches de datasets)\n",
    "train_features, train_labels = next(iter(dataloader[\"train\"]))\n",
    "\n",
    "print(f\"Feature batch shape: {train_features.size()}\")\n",
    "print(f\"Labels batch shape: {train_labels.size()}\")\n",
    "\n",
    "img = train_features[0]\n",
    "print(\"tamaño de 1 imagen: \", img.shape)\n",
    "# le QUITO 1 dimension (la del tamaño del batch) para poder graficar\n",
    "img = train_features[0].squeeze()\n",
    "print(\"tamaño 1 imagen DESPUES de squeeze: \", img.shape)\n",
    "label = train_labels[0]\n",
    "plt.imshow(img, cmap=\"gray\")\n",
    "plt.show()\n",
    "print(f\"Label: {label}\")"
   ]
  },
  {
   "cell_type": "markdown",
   "metadata": {
    "id": "EY0TN4erDxRd"
   },
   "source": [
    "3. Construyo mi CNN"
   ]
  },
  {
   "cell_type": "code",
   "execution_count": 6,
   "metadata": {},
   "outputs": [],
   "source": [
    "def conv_block(c_in, c_out, k=3, p=1, s=1, pk=1, ps=1, pp=0):\n",
    "    return nn.Sequential(\n",
    "        nn.Conv2d(c_in, c_out, k, padding=p, stride=s),\n",
    "        nn.ReLU(),\n",
    "        nn.MaxPool2d(pk, stride=ps, padding=pp),\n",
    "    )\n",
    "\n",
    "\n",
    "class CNN(nn.Module):\n",
    "    def __init__(self):\n",
    "        super().__init__()\n",
    "        self.conv_block1 = conv_block(\n",
    "            c_in=1, c_out=32, k=7, p=\"same\", s=1, pk=2, ps=2, pp=0\n",
    "        )\n",
    "        self.conv_block2 = conv_block(\n",
    "            c_in=32, c_out=64, k=5, p=\"same\", s=1, pk=1, ps=1, pp=0\n",
    "        )\n",
    "        self.conv_block3 = conv_block(\n",
    "            c_in=64, c_out=128, k=3, p=\"same\", s=1, pk=1, ps=1, pp=0\n",
    "        )\n",
    "        self.conv_block4 = conv_block(\n",
    "            c_in=128, c_out=256, k=3, p=\"same\", s=1, pk=2, ps=2, pp=0\n",
    "        )\n",
    "        self.conv_block5 = conv_block(\n",
    "            c_in=256, c_out=512, k=3, p=\"same\", s=1, pk=1, ps=1, pp=0\n",
    "        )\n",
    "        self.conv_block6 = conv_block(\n",
    "            c_in=512, c_out=1024, k=3, p=\"same\", s=1, pk=1, ps=1, pp=0\n",
    "        )\n",
    "        self.conv_block7 = conv_block(\n",
    "            c_in=1024, c_out=512, k=3, p=\"same\", s=1, pk=2, ps=2, pp=0\n",
    "        )\n",
    "        self.conv_block8 = conv_block(\n",
    "            c_in=512, c_out=256, k=3, p=\"same\", s=1, pk=1, ps=1, pp=0\n",
    "        )\n",
    "        self.flatten = nn.Flatten()\n",
    "        self.linear1 = nn.Linear(in_features=2304, out_features=1024)\n",
    "        self.linear2 = nn.Linear(in_features=1024, out_features=512)\n",
    "        self.linear3 = nn.Linear(in_features=512, out_features=256)\n",
    "        self.linear4 = nn.Linear(in_features=256, out_features=10)\n",
    "        self.to(device)\n",
    "\n",
    "    def forward(self, input):\n",
    "        out = self.conv_block1(input)\n",
    "        out = self.conv_block2(out)\n",
    "        out = self.conv_block3(out)\n",
    "        out = self.conv_block4(out)\n",
    "        out = self.conv_block5(out)\n",
    "        out = self.conv_block6(out)\n",
    "        out = self.conv_block7(out)\n",
    "        out = self.conv_block8(out)\n",
    "        out = self.flatten(out)\n",
    "        out = self.linear1(out)\n",
    "        out = self.linear2(out)\n",
    "        out = self.linear3(out)\n",
    "        out = self.linear4(out)\n",
    "        return out\n",
    "\n",
    "    def fit(self, dataloader, epochs=10, lr=1e-3):\n",
    "        optimizer = optim.Adam(self.parameters(), lr=lr)\n",
    "        criterion = nn.CrossEntropyLoss()\n",
    "        final_loss = 0\n",
    "        final_acc = 0\n",
    "\n",
    "        for epoch in range(epochs):\n",
    "            self.train()\n",
    "            train_loss, train_acc = [], []\n",
    "            bar = tqdm(dataloader[\"train\"])\n",
    "            for batch in bar:\n",
    "                X, y = batch\n",
    "                X, y = X.to(device).float(), y.to(device).long()\n",
    "                optimizer.zero_grad()\n",
    "                y_pred = model(X)\n",
    "                loss = criterion(y_pred, y)\n",
    "                loss.backward()\n",
    "                optimizer.step()\n",
    "                train_loss.append(loss.item())\n",
    "                acc = (y == torch.argmax(y_pred, axis=1)).sum().item() / len(y)\n",
    "                train_acc.append(acc)\n",
    "                bar.set_description(\n",
    "                    f\"Epoch {epoch+1}/{epochs}:\\tloss {np.mean(train_loss):.5f} acc {np.mean(train_acc):.5f}\"\n",
    "                )\n",
    "\n",
    "            self.eval()\n",
    "            test_loss, test_acc = [], []\n",
    "            bar = tqdm(dataloader[\"test\"])\n",
    "            with torch.no_grad():\n",
    "                for batch in bar:\n",
    "                    X, y = batch\n",
    "                    X, y = X.to(device).float(), y.to(device).long()\n",
    "                    y_pred = model(X)\n",
    "                    loss = criterion(y_pred, y)\n",
    "                    test_loss.append(loss.item())\n",
    "                    acc = (y == torch.argmax(y_pred, axis=1)).sum().item() / len(y)\n",
    "                    test_acc.append(acc)\n",
    "                    bar.set_description(\n",
    "                        f\"\\t\\ttest_loss {np.mean(test_loss):.5f} test_acc {np.mean(test_acc):.5f}\"\n",
    "                    )\n",
    "                    final_loss = np.mean(test_loss)\n",
    "                    final_acc = np.mean(test_acc)\n",
    "\n",
    "        return final_loss, final_acc"
   ]
  },
  {
   "cell_type": "code",
   "execution_count": 7,
   "metadata": {},
   "outputs": [
    {
     "name": "stdout",
     "output_type": "stream",
     "text": [
      "----------------------------------------------------------------\n",
      "        Layer (type)               Output Shape         Param #\n",
      "================================================================\n",
      "            Conv2d-1           [-1, 32, 28, 28]           1,600\n",
      "              ReLU-2           [-1, 32, 28, 28]               0\n",
      "         MaxPool2d-3           [-1, 32, 14, 14]               0\n",
      "            Conv2d-4           [-1, 64, 14, 14]          51,264\n",
      "              ReLU-5           [-1, 64, 14, 14]               0\n",
      "         MaxPool2d-6           [-1, 64, 14, 14]               0\n",
      "            Conv2d-7          [-1, 128, 14, 14]          73,856\n",
      "              ReLU-8          [-1, 128, 14, 14]               0\n",
      "         MaxPool2d-9          [-1, 128, 14, 14]               0\n",
      "           Conv2d-10          [-1, 256, 14, 14]         295,168\n",
      "             ReLU-11          [-1, 256, 14, 14]               0\n",
      "        MaxPool2d-12            [-1, 256, 7, 7]               0\n",
      "           Conv2d-13            [-1, 512, 7, 7]       1,180,160\n",
      "             ReLU-14            [-1, 512, 7, 7]               0\n",
      "        MaxPool2d-15            [-1, 512, 7, 7]               0\n",
      "           Conv2d-16           [-1, 1024, 7, 7]       4,719,616\n",
      "             ReLU-17           [-1, 1024, 7, 7]               0\n",
      "        MaxPool2d-18           [-1, 1024, 7, 7]               0\n",
      "           Conv2d-19            [-1, 512, 7, 7]       4,719,104\n",
      "             ReLU-20            [-1, 512, 7, 7]               0\n",
      "        MaxPool2d-21            [-1, 512, 3, 3]               0\n",
      "           Conv2d-22            [-1, 256, 3, 3]       1,179,904\n",
      "             ReLU-23            [-1, 256, 3, 3]               0\n",
      "        MaxPool2d-24            [-1, 256, 3, 3]               0\n",
      "          Flatten-25                 [-1, 2304]               0\n",
      "           Linear-26                 [-1, 1024]       2,360,320\n",
      "           Linear-27                  [-1, 512]         524,800\n",
      "           Linear-28                  [-1, 256]         131,328\n",
      "           Linear-29                   [-1, 10]           2,570\n",
      "================================================================\n",
      "Total params: 15,239,690\n",
      "Trainable params: 15,239,690\n",
      "Non-trainable params: 0\n",
      "----------------------------------------------------------------\n",
      "Input size (MB): 0.00\n",
      "Forward/backward pass size (MB): 4.38\n",
      "Params size (MB): 58.13\n",
      "Estimated Total Size (MB): 62.52\n",
      "----------------------------------------------------------------\n"
     ]
    }
   ],
   "source": [
    "model = CNN()\n",
    "summary(model, input_size=(1, 28, 28))"
   ]
  },
  {
   "cell_type": "code",
   "execution_count": 8,
   "metadata": {},
   "outputs": [
    {
     "name": "stderr",
     "output_type": "stream",
     "text": [
      "Epoch 1/1:\tloss 1.58484 acc 0.54883: 100% 110/110 [00:15<00:00,  6.90it/s]\n",
      "\t\ttest_loss 0.13188 test_acc 0.95713: 100% 14/14 [00:00<00:00, 24.00it/s]\n"
     ]
    }
   ],
   "source": [
    "epochs = 1\n",
    "test_loss, test_acc = model.fit(dataloader, epochs=epochs)"
   ]
  },
  {
   "cell_type": "markdown",
   "metadata": {
    "id": "1aQ5n86Kwk7B"
   },
   "source": [
    "# Score Final"
   ]
  },
  {
   "cell_type": "code",
   "execution_count": 9,
   "metadata": {},
   "outputs": [
    {
     "name": "stdout",
     "output_type": "stream",
     "text": [
      "Score contando cada conv_block como una layer: 17.322\n",
      "Score contando todos los bloques: 51.967\n"
     ]
    }
   ],
   "source": [
    "# Si cada bloque conv2d, activation, maxpooling se considera como una layer\n",
    "n_params = 15239690\n",
    "n_layers = 13\n",
    "score = (1 / math.log10(n_params)) * (10 / epochs) * test_acc * n_layers\n",
    "print(f\"Score contando cada conv_block como una layer: {score:.3f}\")\n",
    "\n",
    "# Considerando todos los sub bloques como layers\n",
    "n_layers = 13 * 3\n",
    "score = (1 / math.log10(n_params)) * (10 / epochs) * test_acc * n_layers\n",
    "print(f\"Score contando todos los bloques: {score:.3f}\")"
   ]
  }
 ],
 "metadata": {
  "accelerator": "GPU",
  "colab": {
   "collapsed_sections": [],
   "name": "CNN_TP.ipynb",
   "provenance": []
  },
  "kernelspec": {
   "display_name": "Python 3 (ipykernel)",
   "language": "python",
   "name": "python3"
  },
  "language_info": {
   "codemirror_mode": {
    "name": "ipython",
    "version": 3
   },
   "file_extension": ".py",
   "mimetype": "text/x-python",
   "name": "python",
   "nbconvert_exporter": "python",
   "pygments_lexer": "ipython3",
   "version": "3.10.4"
  }
 },
 "nbformat": 4,
 "nbformat_minor": 1
}
